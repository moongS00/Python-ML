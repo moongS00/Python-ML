{
 "cells": [
  {
   "cell_type": "markdown",
   "id": "50f07cf5",
   "metadata": {},
   "source": [
    "# 1. Precision & Recall"
   ]
  },
  {
   "cell_type": "code",
   "execution_count": 2,
   "id": "9714b180",
   "metadata": {},
   "outputs": [],
   "source": [
    "import pandas as pd\n",
    "\n",
    "wine_url = \"https://raw.githubusercontent.com/PinkWink/ML_tutorial/master/dataset/wine.csv\"\n",
    "\n",
    "wine = pd.read_csv(wine_url, index_col=0)\n",
    "wine.head()\n",
    "\n",
    "wine['taste'] = [1. if grade>5 else 0. for grade in wine['quality']]\n",
    "\n",
    "X = wine.drop(['taste', 'quality'], axis=1)\n",
    "y = wine['taste']"
   ]
  },
  {
   "cell_type": "code",
   "execution_count": 3,
   "id": "d205d48c",
   "metadata": {},
   "outputs": [],
   "source": [
    "from sklearn.model_selection import train_test_split\n",
    "\n",
    "X_train, X_test, y_train, y_test = train_test_split(X, y, test_size=0.2, random_state=13)"
   ]
  },
  {
   "cell_type": "code",
   "execution_count": 4,
   "id": "d15498b2",
   "metadata": {},
   "outputs": [
    {
     "name": "stdout",
     "output_type": "stream",
     "text": [
      "Train ACC :  0.7425437752549547\n",
      "Test ACC :  0.7438461538461538\n"
     ]
    }
   ],
   "source": [
    "from sklearn.linear_model import LogisticRegression\n",
    "from sklearn.metrics import accuracy_score\n",
    "\n",
    "lr = LogisticRegression(solver='liblinear', random_state=13)\n",
    "lr.fit(X_train, y_train)\n",
    "\n",
    "y_pred_tr = lr.predict(X_train)\n",
    "y_pred_test = lr.predict(X_test)\n",
    "\n",
    "print(\"Train ACC : \", accuracy_score(y_train, y_pred_tr))\n",
    "print(\"Test ACC : \", accuracy_score(y_test, y_pred_test))"
   ]
  },
  {
   "cell_type": "markdown",
   "id": "74d63de3",
   "metadata": {},
   "source": [
    "## classfication report"
   ]
  },
  {
   "cell_type": "code",
   "execution_count": 5,
   "id": "8faaded4",
   "metadata": {},
   "outputs": [
    {
     "name": "stdout",
     "output_type": "stream",
     "text": [
      "              precision    recall  f1-score   support\n",
      "\n",
      "         0.0       0.68      0.58      0.62       477\n",
      "         1.0       0.77      0.84      0.81       823\n",
      "\n",
      "    accuracy                           0.74      1300\n",
      "   macro avg       0.73      0.71      0.71      1300\n",
      "weighted avg       0.74      0.74      0.74      1300\n",
      "\n"
     ]
    }
   ],
   "source": [
    "from sklearn.metrics import classification_report\n",
    "\n",
    "print(classification_report(y_test, y_pred_test))"
   ]
  },
  {
   "cell_type": "markdown",
   "id": "8a1bbe6d",
   "metadata": {},
   "source": [
    "- 0.77 : 내가 1이라고 예상한 것 중, 진짜 1인것의 비율\n",
    "- 0.84 : 실제 1중, 1이라고 맞춘 비율\n",
    "    \n",
    "\n",
    "- 0.68 : 내가 0이라고 예상한 것 중, 진짜 0인것의 비율\n",
    "- 0.58 : 실제 0중, 0이라고 맞춘 비율\n",
    "\n",
    "\n",
    "- macro avg : 각 클래스 별 precision, recall, f1-score 의 평균\n",
    "                ex) precision의 경우, 0.73 = (0.68 + 0.77) / 2\n",
    "- weighted avg : 개수의 비중...\n",
    "                ex) precision의 경우, 0.74 = 0.68*(477/1300) + 0.77*(823/1300)"
   ]
  },
  {
   "cell_type": "markdown",
   "id": "da63c459",
   "metadata": {},
   "source": [
    "## confusion matrix\n"
   ]
  },
  {
   "cell_type": "code",
   "execution_count": 6,
   "id": "bd4782f0",
   "metadata": {},
   "outputs": [
    {
     "data": {
      "text/plain": [
       "array([[275, 202],\n",
       "       [131, 692]], dtype=int64)"
      ]
     },
     "execution_count": 6,
     "metadata": {},
     "output_type": "execute_result"
    }
   ],
   "source": [
    "from sklearn.metrics import confusion_matrix\n",
    "\n",
    "confusion_matrix(y_test, lr.predict(X_test))"
   ]
  },
  {
   "cell_type": "markdown",
   "id": "5215148e",
   "metadata": {},
   "source": [
    "- 275, 202 : 전체 0 개수 중, 275개를 0으로, 202개를 1로 예측함\n",
    "- 131, 692 : 전체 1 개수 중, 131개를 0으로, 692개를 1로 예측함   "
   ]
  },
  {
   "cell_type": "markdown",
   "id": "37af112c",
   "metadata": {},
   "source": [
    "## precision_recall curve"
   ]
  },
  {
   "cell_type": "code",
   "execution_count": 7,
   "id": "4a6bf53d",
   "metadata": {},
   "outputs": [
    {
     "data": {
      "image/png": "[encoded data removed]",
      "text/plain": [
       "<Figure size 864x576 with 1 Axes>"
      ]
     },
     "metadata": {
      "needs_background": "light"
     },
     "output_type": "display_data"
    }
   ],
   "source": [
    "import matplotlib.pyplot as plt\n",
    "from sklearn.metrics import precision_recall_curve\n",
    "%matplotlib inline\n",
    "\n",
    "plt.figure(figsize=(12, 8))\n",
    "pred = lr.predict_proba(X_test)[:, 1]\n",
    "precisions, recalls, thresholds = precision_recall_curve(y_test, pred)\n",
    "\n",
    "plt.plot(thresholds, precisions[:len(thresholds)], label='precision')\n",
    "plt.plot(thresholds, recalls[:len(thresholds)], label='recall')\n",
    "plt.grid()\n",
    "plt.legend()\n",
    "plt.show()"
   ]
  },
  {
   "cell_type": "markdown",
   "id": "78f320ad",
   "metadata": {},
   "source": [
    "- thresholds 값의 변화에 따른 precisions, recalls 값의 변화"
   ]
  },
  {
   "cell_type": "code",
   "execution_count": 10,
   "id": "ff1be6d3",
   "metadata": {},
   "outputs": [
    {
     "data": {
      "text/plain": [
       "array([[0.40511422, 0.59488578],\n",
       "       [0.50942858, 0.49057142],\n",
       "       [0.1021066 , 0.8978934 ]])"
      ]
     },
     "execution_count": 10,
     "metadata": {},
     "output_type": "execute_result"
    }
   ],
   "source": [
    "# thresholds = 0.5\n",
    "\n",
    "pred_proba = lr.predict_proba(X_test)\n",
    "pred_proba[:3]"
   ]
  },
  {
   "cell_type": "markdown",
   "id": "10ad01e3",
   "metadata": {},
   "source": [
    "- 왼쪽이 0일 확률, 오른쪽이 1일 확률"
   ]
  },
  {
   "cell_type": "markdown",
   "id": "b226bd3b",
   "metadata": {},
   "source": [
    "## pred_proba와 y_pred_test를 합치기"
   ]
  },
  {
   "cell_type": "code",
   "execution_count": 12,
   "id": "eb634dcf",
   "metadata": {},
   "outputs": [
    {
     "data": {
      "text/plain": [
       "array([1., 0., 1., ..., 1., 0., 1.])"
      ]
     },
     "execution_count": 12,
     "metadata": {},
     "output_type": "execute_result"
    }
   ],
   "source": [
    "y_pred_test"
   ]
  },
  {
   "cell_type": "code",
   "execution_count": 14,
   "id": "4618617e",
   "metadata": {},
   "outputs": [
    {
     "data": {
      "text/plain": [
       "(1300,)"
      ]
     },
     "execution_count": 14,
     "metadata": {},
     "output_type": "execute_result"
    }
   ],
   "source": [
    "y_pred_test.shape"
   ]
  },
  {
   "cell_type": "code",
   "execution_count": 11,
   "id": "31c91e67",
   "metadata": {},
   "outputs": [
    {
     "data": {
      "text/plain": [
       "array([[1.],\n",
       "       [0.],\n",
       "       [1.],\n",
       "       ...,\n",
       "       [1.],\n",
       "       [0.],\n",
       "       [1.]])"
      ]
     },
     "execution_count": 11,
     "metadata": {},
     "output_type": "execute_result"
    }
   ],
   "source": [
    "y_pred_test.reshape(-1, 1)  # -1 : 마음대로 해라 / 설정값 없음"
   ]
  },
  {
   "cell_type": "code",
   "execution_count": 15,
   "id": "c6fbc9a3",
   "metadata": {},
   "outputs": [
    {
     "data": {
      "text/plain": [
       "(1300, 1)"
      ]
     },
     "execution_count": 15,
     "metadata": {},
     "output_type": "execute_result"
    }
   ],
   "source": [
    "y_pred_test.reshape(-1, 1).shape"
   ]
  },
  {
   "cell_type": "code",
   "execution_count": 13,
   "id": "84677156",
   "metadata": {},
   "outputs": [
    {
     "data": {
      "text/plain": [
       "array([[0.40511422, 0.59488578, 1.        ],\n",
       "       [0.50942858, 0.49057142, 0.        ],\n",
       "       [0.1021066 , 0.8978934 , 1.        ],\n",
       "       ...,\n",
       "       [0.2253031 , 0.7746969 , 1.        ],\n",
       "       [0.67385289, 0.32614711, 0.        ],\n",
       "       [0.31468732, 0.68531268, 1.        ]])"
      ]
     },
     "execution_count": 13,
     "metadata": {},
     "output_type": "execute_result"
    }
   ],
   "source": [
    "import numpy as np\n",
    "\n",
    "np.concatenate([pred_proba, y_pred_test.reshape(-1, 1)], axis=1)"
   ]
  },
  {
   "cell_type": "markdown",
   "id": "302f081d",
   "metadata": {},
   "source": [
    "## threshold 변경 - Binarizer"
   ]
  },
  {
   "cell_type": "code",
   "execution_count": 17,
   "id": "b939d1fe",
   "metadata": {},
   "outputs": [],
   "source": [
    "from sklearn.preprocessing import Binarizer\n",
    "\n",
    "binarizer = Binarizer(threshold=0.6).fit(pred_proba)   # pred_proba = lr.predict_proba(X_test)"
   ]
  },
  {
   "cell_type": "code",
   "execution_count": 21,
   "id": "483f5685",
   "metadata": {},
   "outputs": [
    {
     "data": {
      "text/plain": [
       "array([[0., 0.],\n",
       "       [0., 0.],\n",
       "       [0., 1.],\n",
       "       ...,\n",
       "       [0., 1.],\n",
       "       [1., 0.],\n",
       "       [0., 1.]])"
      ]
     },
     "execution_count": 21,
     "metadata": {},
     "output_type": "execute_result"
    }
   ],
   "source": [
    "binarizer.transform(pred_proba)"
   ]
  },
  {
   "cell_type": "markdown",
   "id": "bdd834f9",
   "metadata": {},
   "source": [
    "- 왼쪽이 0일 확률, 오른쪽이 1일 확률"
   ]
  },
  {
   "cell_type": "code",
   "execution_count": 22,
   "id": "cc204191",
   "metadata": {},
   "outputs": [
    {
     "data": {
      "text/plain": [
       "array([0., 0., 1., ..., 1., 0., 1.])"
      ]
     },
     "execution_count": 22,
     "metadata": {},
     "output_type": "execute_result"
    }
   ],
   "source": [
    "pred_bin = binarizer.transform(pred_proba)[:, 1]  # 1일 확률만 추출 \n",
    "pred_bin"
   ]
  },
  {
   "cell_type": "code",
   "execution_count": 25,
   "id": "ebc71675",
   "metadata": {},
   "outputs": [
    {
     "name": "stdout",
     "output_type": "stream",
     "text": [
      "              precision    recall  f1-score   support\n",
      "\n",
      "         0.0       0.68      0.58      0.62       477\n",
      "         1.0       0.77      0.84      0.81       823\n",
      "\n",
      "    accuracy                           0.74      1300\n",
      "   macro avg       0.73      0.71      0.71      1300\n",
      "weighted avg       0.74      0.74      0.74      1300\n",
      "\n"
     ]
    }
   ],
   "source": [
    "print(classification_report(y_test, lr.predict(X_test)))"
   ]
  },
  {
   "cell_type": "code",
   "execution_count": 26,
   "id": "fdbb44ae",
   "metadata": {},
   "outputs": [
    {
     "name": "stdout",
     "output_type": "stream",
     "text": [
      "              precision    recall  f1-score   support\n",
      "\n",
      "         0.0       0.62      0.73      0.67       477\n",
      "         1.0       0.82      0.74      0.78       823\n",
      "\n",
      "    accuracy                           0.74      1300\n",
      "   macro avg       0.72      0.73      0.72      1300\n",
      "weighted avg       0.75      0.74      0.74      1300\n",
      "\n"
     ]
    }
   ],
   "source": [
    "print(classification_report(y_test, pred_bin))"
   ]
  },
  {
   "cell_type": "markdown",
   "id": "ca7753f8",
   "metadata": {},
   "source": [
    "- precision 은 오르고,   recall 낮아진 것을 볼수 있다.\n",
    "- f1 값도 낮아졌다.\n",
    "\n",
    "\n",
    "- 둘중 어느게 더 좋다고는 확답할수 없다.\n",
    "- 그냥 threshold 변경 방법이 이렇다..."
   ]
  },
  {
   "cell_type": "code",
   "execution_count": null,
   "id": "af29cbbe",
   "metadata": {},
   "outputs": [],
   "source": []
  }
 ],
 "metadata": {
  "kernelspec": {
   "display_name": "Python 3 (ipykernel)",
   "language": "python",
   "name": "python3"
  },
  "language_info": {
   "codemirror_mode": {
    "name": "ipython",
    "version": 3
   },
   "file_extension": ".py",
   "mimetype": "text/x-python",
   "name": "python",
   "nbconvert_exporter": "python",
   "pygments_lexer": "ipython3",
   "version": "3.8.13"
  }
 },
 "nbformat": 4,
 "nbformat_minor": 5
}
