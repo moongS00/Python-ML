{
 "cells": [
  {
   "cell_type": "markdown",
   "id": "86a94996",
   "metadata": {},
   "source": [
    "# Naive Bayes Classifier\n",
    "## (1) 감성분석_영어\n",
    "- 영어는 nltk만 있으면 된다."
   ]
  },
  {
   "cell_type": "code",
   "execution_count": 1,
   "id": "bf59f7d6",
   "metadata": {},
   "outputs": [],
   "source": [
    "from nltk.tokenize import word_tokenize\n",
    "import nltk"
   ]
  },
  {
   "cell_type": "markdown",
   "id": "07c765e6",
   "metadata": {},
   "source": [
    "### 나이브 베이즈 분류기는 지도학습이라서 정답을 알려줘야 한다."
   ]
  },
  {
   "cell_type": "code",
   "execution_count": 2,
   "id": "e4afde54",
   "metadata": {},
   "outputs": [],
   "source": [
    "train = [('i like you', 'pos'),\n",
    "        ('i hate you', 'neg'),\n",
    "        ('you like me', 'neg'),\n",
    "        ('i like her', 'pos')]"
   ]
  },
  {
   "cell_type": "markdown",
   "id": "83280208",
   "metadata": {},
   "source": [
    "### 전체 말 뭉치 만들기"
   ]
  },
  {
   "cell_type": "code",
   "execution_count": 3,
   "id": "12f35eda",
   "metadata": {},
   "outputs": [
    {
     "data": {
      "text/plain": [
       "('i like you', 'pos')"
      ]
     },
     "execution_count": 3,
     "metadata": {},
     "output_type": "execute_result"
    }
   ],
   "source": [
    "train[0]"
   ]
  },
  {
   "cell_type": "code",
   "execution_count": 4,
   "id": "82a9d717",
   "metadata": {},
   "outputs": [
    {
     "data": {
      "text/plain": [
       "['i', 'like', 'you']"
      ]
     },
     "execution_count": 4,
     "metadata": {},
     "output_type": "execute_result"
    }
   ],
   "source": [
    "sentence = train[0]\n",
    "word_tokenize(sentence[0])"
   ]
  },
  {
   "cell_type": "markdown",
   "id": "e6b63594",
   "metadata": {},
   "source": [
    "- word_tokenize: 띄어쓰기를 기준으로 분리해준다"
   ]
  },
  {
   "cell_type": "code",
   "execution_count": 5,
   "id": "ecaa6023",
   "metadata": {},
   "outputs": [
    {
     "data": {
      "text/plain": [
       "['i',\n",
       " 'like',\n",
       " 'you',\n",
       " 'i',\n",
       " 'hate',\n",
       " 'you',\n",
       " 'you',\n",
       " 'like',\n",
       " 'me',\n",
       " 'i',\n",
       " 'like',\n",
       " 'her']"
      ]
     },
     "execution_count": 5,
     "metadata": {},
     "output_type": "execute_result"
    }
   ],
   "source": [
    "[word.lower() for sentence in train for word in word_tokenize(sentence[0])]"
   ]
  },
  {
   "cell_type": "markdown",
   "id": "96aeab12",
   "metadata": {},
   "source": [
    "- set이 없으면 반복되어 들어간다."
   ]
  },
  {
   "cell_type": "code",
   "execution_count": 6,
   "id": "ac439662",
   "metadata": {},
   "outputs": [
    {
     "data": {
      "text/plain": [
       "{'hate', 'her', 'i', 'like', 'me', 'you'}"
      ]
     },
     "execution_count": 6,
     "metadata": {},
     "output_type": "execute_result"
    }
   ],
   "source": [
    "all_words = set(word.lower() for sentence in train for word in word_tokenize(sentence[0]))\n",
    "all_words"
   ]
  },
  {
   "cell_type": "markdown",
   "id": "cf79b8bc",
   "metadata": {},
   "source": [
    "- set으로 중복을 허용하지 않고, train의 문장에 있는 단어들만 모아 말뭉치를 구성한다.\n",
    "- 말뭉치를 사용하면, train에 있는 모든 문장들을 만들 수 있다."
   ]
  },
  {
   "cell_type": "code",
   "execution_count": 7,
   "id": "e66fced5",
   "metadata": {},
   "outputs": [
    {
     "data": {
      "text/plain": [
       "[({'me': False,\n",
       "   'like': True,\n",
       "   'i': True,\n",
       "   'hate': False,\n",
       "   'you': True,\n",
       "   'her': False},\n",
       "  'pos'),\n",
       " ({'me': False,\n",
       "   'like': False,\n",
       "   'i': True,\n",
       "   'hate': True,\n",
       "   'you': True,\n",
       "   'her': False},\n",
       "  'neg'),\n",
       " ({'me': True,\n",
       "   'like': True,\n",
       "   'i': False,\n",
       "   'hate': False,\n",
       "   'you': True,\n",
       "   'her': False},\n",
       "  'neg'),\n",
       " ({'me': False,\n",
       "   'like': True,\n",
       "   'i': True,\n",
       "   'hate': False,\n",
       "   'you': False,\n",
       "   'her': True},\n",
       "  'pos')]"
      ]
     },
     "execution_count": 7,
     "metadata": {},
     "output_type": "execute_result"
    }
   ],
   "source": [
    "t = [({word: (word in word_tokenize(x[0])) for word in all_words}, x[1]) for x in train]\n",
    "t"
   ]
  },
  {
   "cell_type": "markdown",
   "id": "2984ee3e",
   "metadata": {},
   "source": [
    "- 말뭉치에 단어가 있는지 없는지를 표시한다."
   ]
  },
  {
   "cell_type": "markdown",
   "id": "a40ffe6f",
   "metadata": {},
   "source": [
    "### 분류기 학습"
   ]
  },
  {
   "cell_type": "code",
   "execution_count": 8,
   "id": "42b94e53",
   "metadata": {},
   "outputs": [
    {
     "name": "stdout",
     "output_type": "stream",
     "text": [
      "Most Informative Features\n",
      "                    hate = False             pos : neg    =      1.7 : 1.0\n",
      "                     her = False             neg : pos    =      1.7 : 1.0\n",
      "                       i = True              pos : neg    =      1.7 : 1.0\n",
      "                    like = True              pos : neg    =      1.7 : 1.0\n",
      "                      me = False             pos : neg    =      1.7 : 1.0\n",
      "                     you = True              neg : pos    =      1.7 : 1.0\n"
     ]
    }
   ],
   "source": [
    "clf = nltk.NaiveBayesClassifier.train(t)\n",
    "clf.show_most_informative_features()"
   ]
  },
  {
   "cell_type": "markdown",
   "id": "e2fec592",
   "metadata": {},
   "source": [
    "- hate 가 없는게 1.7의 확률로 positive\n",
    "- her 가 없는게 1.7의 확률로 negative\n",
    "- i 가 있는게 1.7의 확률로 positive\n",
    "- like 가 있는게 1.7의 확률로 positive\n",
    "- me 가 없는게 1.7의 확률로 positive\n",
    "- you 가 있는게 1.7의 확률로 negative"
   ]
  },
  {
   "cell_type": "markdown",
   "id": "1b7a3626",
   "metadata": {},
   "source": [
    "### 학습 결과를 가지고 테스트"
   ]
  },
  {
   "cell_type": "code",
   "execution_count": 10,
   "id": "3f43b9d1",
   "metadata": {},
   "outputs": [
    {
     "data": {
      "text/plain": [
       "{'me': False,\n",
       " 'like': True,\n",
       " 'i': True,\n",
       " 'hate': False,\n",
       " 'you': False,\n",
       " 'her': False}"
      ]
     },
     "execution_count": 10,
     "metadata": {},
     "output_type": "execute_result"
    }
   ],
   "source": [
    "test_sen = 'i like MeRui'\n",
    "test_sen_feat = {word.lower(): (word in word_tokenize(test_sen.lower())) for word in all_words}\n",
    "test_sen_feat"
   ]
  },
  {
   "cell_type": "code",
   "execution_count": 11,
   "id": "b8b9b61e",
   "metadata": {},
   "outputs": [
    {
     "data": {
      "text/plain": [
       "'pos'"
      ]
     },
     "execution_count": 11,
     "metadata": {},
     "output_type": "execute_result"
    }
   ],
   "source": [
    "clf.classify(test_sen_feat)"
   ]
  },
  {
   "cell_type": "markdown",
   "id": "bc1bcfa1",
   "metadata": {},
   "source": [
    "- 결과는 pos"
   ]
  },
  {
   "cell_type": "markdown",
   "id": "f5286324",
   "metadata": {},
   "source": [
    "---\n",
    "## (2) 감성분석_한글\n",
    "- 한글은 형태소 분석을 해야 한다..!"
   ]
  },
  {
   "cell_type": "markdown",
   "id": "c9354f32",
   "metadata": {},
   "source": [
    "### 일단 형태소 분석없이 도전"
   ]
  },
  {
   "cell_type": "code",
   "execution_count": 12,
   "id": "8798a4cb",
   "metadata": {},
   "outputs": [],
   "source": [
    "from konlpy.tag import Okt"
   ]
  },
  {
   "cell_type": "code",
   "execution_count": 13,
   "id": "420dcf36",
   "metadata": {},
   "outputs": [],
   "source": [
    "pos_tagger = Okt()"
   ]
  },
  {
   "cell_type": "markdown",
   "id": "9cdbdbcd",
   "metadata": {},
   "source": [
    "### 훈련용 데이터"
   ]
  },
  {
   "cell_type": "code",
   "execution_count": 14,
   "id": "d1ceb89c",
   "metadata": {},
   "outputs": [],
   "source": [
    "train = [('메리가 좋아', 'pos'),\n",
    "        ('고양이도 좋아', 'pos'),\n",
    "        ('난 수업이 좋아', 'neg'),\n",
    "        ('메리는 이쁜 고양이야', 'pos'),\n",
    "        ('난 마치고 메리랑 놀거야', 'pos')]"
   ]
  },
  {
   "cell_type": "markdown",
   "id": "828a20c5",
   "metadata": {},
   "source": [
    "### 말뭉치 만들기"
   ]
  },
  {
   "cell_type": "code",
   "execution_count": 18,
   "id": "82a0d7c3",
   "metadata": {},
   "outputs": [
    {
     "data": {
      "text/plain": [
       "{'고양이도', '고양이야', '난', '놀거야', '마치고', '메리가', '메리는', '메리랑', '수업이', '이쁜', '좋아'}"
      ]
     },
     "execution_count": 18,
     "metadata": {},
     "output_type": "execute_result"
    }
   ],
   "source": [
    "all_words = set(word for sentence in train for word in word_tokenize(sentence[0]))\n",
    "all_words"
   ]
  },
  {
   "cell_type": "markdown",
   "id": "f2dbbaf8",
   "metadata": {},
   "source": [
    "- 형태소 분석을 안했더니 '메리가', '메리는', '메리랑' 을 모두 다른 단어로 인식한다"
   ]
  },
  {
   "cell_type": "markdown",
   "id": "01b5a266",
   "metadata": {},
   "source": [
    "### 각 문장에 말뭉치 유무 출력"
   ]
  },
  {
   "cell_type": "code",
   "execution_count": 19,
   "id": "2a303266",
   "metadata": {},
   "outputs": [
    {
     "data": {
      "text/plain": [
       "[({'고양이야': False,\n",
       "   '난': False,\n",
       "   '이쁜': False,\n",
       "   '메리가': True,\n",
       "   '마치고': False,\n",
       "   '메리랑': False,\n",
       "   '좋아': True,\n",
       "   '메리는': False,\n",
       "   '놀거야': False,\n",
       "   '수업이': False,\n",
       "   '고양이도': False},\n",
       "  'pos'),\n",
       " ({'고양이야': False,\n",
       "   '난': False,\n",
       "   '이쁜': False,\n",
       "   '메리가': False,\n",
       "   '마치고': False,\n",
       "   '메리랑': False,\n",
       "   '좋아': True,\n",
       "   '메리는': False,\n",
       "   '놀거야': False,\n",
       "   '수업이': False,\n",
       "   '고양이도': True},\n",
       "  'pos'),\n",
       " ({'고양이야': False,\n",
       "   '난': True,\n",
       "   '이쁜': False,\n",
       "   '메리가': False,\n",
       "   '마치고': False,\n",
       "   '메리랑': False,\n",
       "   '좋아': True,\n",
       "   '메리는': False,\n",
       "   '놀거야': False,\n",
       "   '수업이': True,\n",
       "   '고양이도': False},\n",
       "  'neg'),\n",
       " ({'고양이야': True,\n",
       "   '난': False,\n",
       "   '이쁜': True,\n",
       "   '메리가': False,\n",
       "   '마치고': False,\n",
       "   '메리랑': False,\n",
       "   '좋아': False,\n",
       "   '메리는': True,\n",
       "   '놀거야': False,\n",
       "   '수업이': False,\n",
       "   '고양이도': False},\n",
       "  'pos'),\n",
       " ({'고양이야': False,\n",
       "   '난': True,\n",
       "   '이쁜': False,\n",
       "   '메리가': False,\n",
       "   '마치고': True,\n",
       "   '메리랑': True,\n",
       "   '좋아': False,\n",
       "   '메리는': False,\n",
       "   '놀거야': True,\n",
       "   '수업이': False,\n",
       "   '고양이도': False},\n",
       "  'pos')]"
      ]
     },
     "execution_count": 19,
     "metadata": {},
     "output_type": "execute_result"
    }
   ],
   "source": [
    "t = [({word: (word in word_tokenize(x[0])) for word in all_words}, x[1]) for x in train]\n",
    "t"
   ]
  },
  {
   "cell_type": "markdown",
   "id": "046be620",
   "metadata": {},
   "source": [
    "### 학습하기\n",
    "- train은 fit 과 동일"
   ]
  },
  {
   "cell_type": "code",
   "execution_count": 20,
   "id": "9812aa6e",
   "metadata": {},
   "outputs": [
    {
     "name": "stdout",
     "output_type": "stream",
     "text": [
      "Most Informative Features\n",
      "                       난 = True              neg : pos    =      2.5 : 1.0\n",
      "                      좋아 = True              neg : pos    =      1.5 : 1.0\n",
      "                    고양이도 = False             neg : pos    =      1.1 : 1.0\n",
      "                    고양이야 = False             neg : pos    =      1.1 : 1.0\n",
      "                     놀거야 = False             neg : pos    =      1.1 : 1.0\n",
      "                     마치고 = False             neg : pos    =      1.1 : 1.0\n",
      "                     메리가 = False             neg : pos    =      1.1 : 1.0\n",
      "                     메리는 = False             neg : pos    =      1.1 : 1.0\n",
      "                     메리랑 = False             neg : pos    =      1.1 : 1.0\n",
      "                      이쁜 = False             neg : pos    =      1.1 : 1.0\n"
     ]
    }
   ],
   "source": [
    "clf = nltk.NaiveBayesClassifier.train(t)\n",
    "clf.show_most_informative_features()"
   ]
  },
  {
   "cell_type": "markdown",
   "id": "ef1bcced",
   "metadata": {},
   "source": [
    "### 테스트"
   ]
  },
  {
   "cell_type": "code",
   "execution_count": 21,
   "id": "4444e648",
   "metadata": {},
   "outputs": [
    {
     "data": {
      "text/plain": [
       "{'고양이야': False,\n",
       " '난': True,\n",
       " '이쁜': False,\n",
       " '메리가': False,\n",
       " '마치고': False,\n",
       " '메리랑': True,\n",
       " '좋아': False,\n",
       " '메리는': False,\n",
       " '놀거야': True,\n",
       " '수업이': True,\n",
       " '고양이도': False}"
      ]
     },
     "execution_count": 21,
     "metadata": {},
     "output_type": "execute_result"
    }
   ],
   "source": [
    "test_sen = '난 수업이 마치면 메리랑 놀거야'\n",
    "test_sen_feat = {word.lower(): (word in word_tokenize(test_sen.lower())) for word in all_words}\n",
    "test_sen_feat"
   ]
  },
  {
   "cell_type": "code",
   "execution_count": 22,
   "id": "54ac401d",
   "metadata": {},
   "outputs": [
    {
     "data": {
      "text/plain": [
       "'neg'"
      ]
     },
     "execution_count": 22,
     "metadata": {},
     "output_type": "execute_result"
    }
   ],
   "source": [
    "clf.classify(test_sen_feat)"
   ]
  },
  {
   "cell_type": "markdown",
   "id": "7b1cd04d",
   "metadata": {},
   "source": [
    "- 형태소 분석을 안했더니 결과가 이상하다."
   ]
  },
  {
   "cell_type": "markdown",
   "id": "57c7121a",
   "metadata": {},
   "source": [
    "---\n",
    "### 형태소 분석\n",
    "- 형태소 분석을 한 후에 품사를 단어 뒤에 붙여넣는다."
   ]
  },
  {
   "cell_type": "code",
   "execution_count": 23,
   "id": "b2fac401",
   "metadata": {},
   "outputs": [],
   "source": [
    "def tokenize(doc):\n",
    "    return [\"/\".join(t) for t in pos_tagger.pos(doc, norm=True, stem=True)]"
   ]
  },
  {
   "cell_type": "code",
   "execution_count": 24,
   "id": "f9e2ef2a",
   "metadata": {},
   "outputs": [
    {
     "data": {
      "text/plain": [
       "[(['메리/Noun', '가/Josa', '좋다/Adjective'], 'pos'),\n",
       " (['고양이/Noun', '도/Josa', '좋다/Adjective'], 'pos'),\n",
       " (['난/Noun', '수업/Noun', '이/Josa', '좋다/Adjective'], 'neg'),\n",
       " (['메리/Noun', '는/Josa', '이쁘다/Adjective', '고양이/Noun', '야/Josa'], 'pos'),\n",
       " (['난/Noun', '마치/Noun', '고/Josa', '메리/Noun', '랑/Josa', '놀다/Verb'], 'pos')]"
      ]
     },
     "execution_count": 24,
     "metadata": {},
     "output_type": "execute_result"
    }
   ],
   "source": [
    "train_docs = [(tokenize(row[0]), row[1]) for row in train]\n",
    "train_docs"
   ]
  },
  {
   "cell_type": "markdown",
   "id": "8db0c333",
   "metadata": {},
   "source": [
    "### 말뭉치 다시 만들기"
   ]
  },
  {
   "cell_type": "code",
   "execution_count": 25,
   "id": "be2d418d",
   "metadata": {},
   "outputs": [
    {
     "data": {
      "text/plain": [
       "['메리/Noun',\n",
       " '가/Josa',\n",
       " '좋다/Adjective',\n",
       " '고양이/Noun',\n",
       " '도/Josa',\n",
       " '좋다/Adjective',\n",
       " '난/Noun',\n",
       " '수업/Noun',\n",
       " '이/Josa',\n",
       " '좋다/Adjective',\n",
       " '메리/Noun',\n",
       " '는/Josa',\n",
       " '이쁘다/Adjective',\n",
       " '고양이/Noun',\n",
       " '야/Josa',\n",
       " '난/Noun',\n",
       " '마치/Noun',\n",
       " '고/Josa',\n",
       " '메리/Noun',\n",
       " '랑/Josa',\n",
       " '놀다/Verb']"
      ]
     },
     "execution_count": 25,
     "metadata": {},
     "output_type": "execute_result"
    }
   ],
   "source": [
    "tokens = [t for d in train_docs for t in d[0]]\n",
    "tokens"
   ]
  },
  {
   "cell_type": "markdown",
   "id": "f460a7d2",
   "metadata": {},
   "source": [
    "### 각 문장에 말뭉치 유무 출력"
   ]
  },
  {
   "cell_type": "code",
   "execution_count": 26,
   "id": "304ab587",
   "metadata": {},
   "outputs": [],
   "source": [
    "def term_exist(doc):\n",
    "    return {word: (word in set(doc)) for word in tokens}"
   ]
  },
  {
   "cell_type": "code",
   "execution_count": 27,
   "id": "d101967b",
   "metadata": {},
   "outputs": [
    {
     "data": {
      "text/plain": [
       "[({'메리/Noun': True,\n",
       "   '가/Josa': True,\n",
       "   '좋다/Adjective': True,\n",
       "   '고양이/Noun': False,\n",
       "   '도/Josa': False,\n",
       "   '난/Noun': False,\n",
       "   '수업/Noun': False,\n",
       "   '이/Josa': False,\n",
       "   '는/Josa': False,\n",
       "   '이쁘다/Adjective': False,\n",
       "   '야/Josa': False,\n",
       "   '마치/Noun': False,\n",
       "   '고/Josa': False,\n",
       "   '랑/Josa': False,\n",
       "   '놀다/Verb': False},\n",
       "  'pos'),\n",
       " ({'메리/Noun': False,\n",
       "   '가/Josa': False,\n",
       "   '좋다/Adjective': True,\n",
       "   '고양이/Noun': True,\n",
       "   '도/Josa': True,\n",
       "   '난/Noun': False,\n",
       "   '수업/Noun': False,\n",
       "   '이/Josa': False,\n",
       "   '는/Josa': False,\n",
       "   '이쁘다/Adjective': False,\n",
       "   '야/Josa': False,\n",
       "   '마치/Noun': False,\n",
       "   '고/Josa': False,\n",
       "   '랑/Josa': False,\n",
       "   '놀다/Verb': False},\n",
       "  'pos'),\n",
       " ({'메리/Noun': False,\n",
       "   '가/Josa': False,\n",
       "   '좋다/Adjective': True,\n",
       "   '고양이/Noun': False,\n",
       "   '도/Josa': False,\n",
       "   '난/Noun': True,\n",
       "   '수업/Noun': True,\n",
       "   '이/Josa': True,\n",
       "   '는/Josa': False,\n",
       "   '이쁘다/Adjective': False,\n",
       "   '야/Josa': False,\n",
       "   '마치/Noun': False,\n",
       "   '고/Josa': False,\n",
       "   '랑/Josa': False,\n",
       "   '놀다/Verb': False},\n",
       "  'neg'),\n",
       " ({'메리/Noun': True,\n",
       "   '가/Josa': False,\n",
       "   '좋다/Adjective': False,\n",
       "   '고양이/Noun': True,\n",
       "   '도/Josa': False,\n",
       "   '난/Noun': False,\n",
       "   '수업/Noun': False,\n",
       "   '이/Josa': False,\n",
       "   '는/Josa': True,\n",
       "   '이쁘다/Adjective': True,\n",
       "   '야/Josa': True,\n",
       "   '마치/Noun': False,\n",
       "   '고/Josa': False,\n",
       "   '랑/Josa': False,\n",
       "   '놀다/Verb': False},\n",
       "  'pos'),\n",
       " ({'메리/Noun': True,\n",
       "   '가/Josa': False,\n",
       "   '좋다/Adjective': False,\n",
       "   '고양이/Noun': False,\n",
       "   '도/Josa': False,\n",
       "   '난/Noun': True,\n",
       "   '수업/Noun': False,\n",
       "   '이/Josa': False,\n",
       "   '는/Josa': False,\n",
       "   '이쁘다/Adjective': False,\n",
       "   '야/Josa': False,\n",
       "   '마치/Noun': True,\n",
       "   '고/Josa': True,\n",
       "   '랑/Josa': True,\n",
       "   '놀다/Verb': True},\n",
       "  'pos')]"
      ]
     },
     "execution_count": 27,
     "metadata": {},
     "output_type": "execute_result"
    }
   ],
   "source": [
    "train_xy = [(term_exist(d), c) for d, c in train_docs]\n",
    "train_xy"
   ]
  },
  {
   "cell_type": "markdown",
   "id": "6082e795",
   "metadata": {},
   "source": [
    "### 학습\n",
    "-  train은 fit 과 동일"
   ]
  },
  {
   "cell_type": "code",
   "execution_count": 28,
   "id": "a94351a3",
   "metadata": {},
   "outputs": [
    {
     "name": "stdout",
     "output_type": "stream",
     "text": [
      "Most Informative Features\n",
      "                  난/Noun = True              neg : pos    =      2.5 : 1.0\n",
      "                 메리/Noun = False             neg : pos    =      2.5 : 1.0\n",
      "                고양이/Noun = False             neg : pos    =      1.5 : 1.0\n",
      "            좋다/Adjective = True              neg : pos    =      1.5 : 1.0\n",
      "                  가/Josa = False             neg : pos    =      1.1 : 1.0\n",
      "                  고/Josa = False             neg : pos    =      1.1 : 1.0\n",
      "                 놀다/Verb = False             neg : pos    =      1.1 : 1.0\n",
      "                  는/Josa = False             neg : pos    =      1.1 : 1.0\n",
      "                  도/Josa = False             neg : pos    =      1.1 : 1.0\n",
      "                  랑/Josa = False             neg : pos    =      1.1 : 1.0\n"
     ]
    }
   ],
   "source": [
    "clf = nltk.NaiveBayesClassifier.train(train_xy) \n",
    "clf.show_most_informative_features()"
   ]
  },
  {
   "cell_type": "markdown",
   "id": "038f4a54",
   "metadata": {},
   "source": [
    "### 테스트 문장 형태소 분석"
   ]
  },
  {
   "cell_type": "code",
   "execution_count": 30,
   "id": "c79604c3",
   "metadata": {},
   "outputs": [
    {
     "data": {
      "text/plain": [
       "[('난', 'Noun'),\n",
       " ('수업', 'Noun'),\n",
       " ('이', 'Josa'),\n",
       " ('마치', 'Noun'),\n",
       " ('면', 'Josa'),\n",
       " ('메리', 'Noun'),\n",
       " ('랑', 'Josa'),\n",
       " ('놀거야', 'Verb')]"
      ]
     },
     "execution_count": 30,
     "metadata": {},
     "output_type": "execute_result"
    }
   ],
   "source": [
    "test_sen = '난 수업이 마치면 메리랑 놀거야'\n",
    "\n",
    "test_doc = pos_tagger.pos(test_sen)\n",
    "test_doc"
   ]
  },
  {
   "cell_type": "markdown",
   "id": "af9c9fa1",
   "metadata": {},
   "source": [
    "### 모델 예측"
   ]
  },
  {
   "cell_type": "code",
   "execution_count": 31,
   "id": "a12785fd",
   "metadata": {},
   "outputs": [
    {
     "data": {
      "text/plain": [
       "{('난', 'Noun'): False,\n",
       " ('수업', 'Noun'): False,\n",
       " ('이', 'Josa'): False,\n",
       " ('마치', 'Noun'): False,\n",
       " ('면', 'Josa'): False,\n",
       " ('메리', 'Noun'): False,\n",
       " ('랑', 'Josa'): False,\n",
       " ('놀거야', 'Verb'): False}"
      ]
     },
     "execution_count": 31,
     "metadata": {},
     "output_type": "execute_result"
    }
   ],
   "source": [
    "test_sen_feat = {word: (word in tokens) for word in test_doc}\n",
    "test_sen_feat"
   ]
  },
  {
   "cell_type": "code",
   "execution_count": 32,
   "id": "864b7bd3",
   "metadata": {},
   "outputs": [
    {
     "data": {
      "text/plain": [
       "'pos'"
      ]
     },
     "execution_count": 32,
     "metadata": {},
     "output_type": "execute_result"
    }
   ],
   "source": [
    "clf.classify(test_sen_feat)"
   ]
  },
  {
   "cell_type": "code",
   "execution_count": null,
   "id": "c120c0b4",
   "metadata": {},
   "outputs": [],
   "source": []
  }
 ],
 "metadata": {
  "kernelspec": {
   "display_name": "Python 3 (ipykernel)",
   "language": "python",
   "name": "python3"
  },
  "language_info": {
   "codemirror_mode": {
    "name": "ipython",
    "version": 3
   },
   "file_extension": ".py",
   "mimetype": "text/x-python",
   "name": "python",
   "nbconvert_exporter": "python",
   "pygments_lexer": "ipython3",
   "version": "3.8.13"
  }
 },
 "nbformat": 4,
 "nbformat_minor": 5
}
