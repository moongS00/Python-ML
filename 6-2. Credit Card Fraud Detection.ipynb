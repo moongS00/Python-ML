{
 "cells": [
  {
   "cell_type": "markdown",
   "id": "e335b698",
   "metadata": {},
   "source": [
    "# 신용카드 부정 사용자 검출\n",
    "- 신용카드 사기 검출 분류 실습용 데이터\n",
    "- 데이터에 class 컬럼이 사기 유무를 의미\n",
    "- class 컬럼의 불균형이 극심해서 전체 데이터 중 약 0.172%만 사기(=1) 을 가짐\n",
    "- 기업의 기밀 보호를 위해 대다수 컬럼의 이름은 삭제됨\n",
    "    - Amount : 거래금액\n",
    "    - Class : Fraud 유무 (1이면 Fraud)"
   ]
  },
  {
   "cell_type": "markdown",
   "id": "a6e5cb40",
   "metadata": {},
   "source": [
    "---\n",
    "# 1. 데이터 불러오기"
   ]
  },
  {
   "cell_type": "code",
   "execution_count": 36,
   "id": "4da14ad2",
   "metadata": {},
   "outputs": [
    {
     "data": {
      "text/html": [
       "<div>\n",
       "<style scoped>\n",
       "    .dataframe tbody tr th:only-of-type {\n",
       "        vertical-align: middle;\n",
       "    }\n",
       "\n",
       "    .dataframe tbody tr th {\n",
       "        vertical-align: top;\n",
       "    }\n",
       "\n",
       "    .dataframe thead th {\n",
       "        text-align: right;\n",
       "    }\n",
       "</style>\n",
       "<table border=\"1\" class=\"dataframe\">\n",
       "  <thead>\n",
       "    <tr style=\"text-align: right;\">\n",
       "      <th></th>\n",
       "      <th>Time</th>\n",
       "      <th>V1</th>\n",
       "      <th>V2</th>\n",
       "      <th>V3</th>\n",
       "      <th>V4</th>\n",
       "      <th>V5</th>\n",
       "      <th>V6</th>\n",
       "      <th>V7</th>\n",
       "      <th>V8</th>\n",
       "      <th>V9</th>\n",
       "      <th>...</th>\n",
       "      <th>V21</th>\n",
       "      <th>V22</th>\n",
       "      <th>V23</th>\n",
       "      <th>V24</th>\n",
       "      <th>V25</th>\n",
       "      <th>V26</th>\n",
       "      <th>V27</th>\n",
       "      <th>V28</th>\n",
       "      <th>Amount</th>\n",
       "      <th>Class</th>\n",
       "    </tr>\n",
       "  </thead>\n",
       "  <tbody>\n",
       "    <tr>\n",
       "      <th>0</th>\n",
       "      <td>0.0</td>\n",
       "      <td>-1.359807</td>\n",
       "      <td>-0.072781</td>\n",
       "      <td>2.536347</td>\n",
       "      <td>1.378155</td>\n",
       "      <td>-0.338321</td>\n",
       "      <td>0.462388</td>\n",
       "      <td>0.239599</td>\n",
       "      <td>0.098698</td>\n",
       "      <td>0.363787</td>\n",
       "      <td>...</td>\n",
       "      <td>-0.018307</td>\n",
       "      <td>0.277838</td>\n",
       "      <td>-0.110474</td>\n",
       "      <td>0.066928</td>\n",
       "      <td>0.128539</td>\n",
       "      <td>-0.189115</td>\n",
       "      <td>0.133558</td>\n",
       "      <td>-0.021053</td>\n",
       "      <td>149.62</td>\n",
       "      <td>0</td>\n",
       "    </tr>\n",
       "    <tr>\n",
       "      <th>1</th>\n",
       "      <td>0.0</td>\n",
       "      <td>1.191857</td>\n",
       "      <td>0.266151</td>\n",
       "      <td>0.166480</td>\n",
       "      <td>0.448154</td>\n",
       "      <td>0.060018</td>\n",
       "      <td>-0.082361</td>\n",
       "      <td>-0.078803</td>\n",
       "      <td>0.085102</td>\n",
       "      <td>-0.255425</td>\n",
       "      <td>...</td>\n",
       "      <td>-0.225775</td>\n",
       "      <td>-0.638672</td>\n",
       "      <td>0.101288</td>\n",
       "      <td>-0.339846</td>\n",
       "      <td>0.167170</td>\n",
       "      <td>0.125895</td>\n",
       "      <td>-0.008983</td>\n",
       "      <td>0.014724</td>\n",
       "      <td>2.69</td>\n",
       "      <td>0</td>\n",
       "    </tr>\n",
       "    <tr>\n",
       "      <th>2</th>\n",
       "      <td>1.0</td>\n",
       "      <td>-1.358354</td>\n",
       "      <td>-1.340163</td>\n",
       "      <td>1.773209</td>\n",
       "      <td>0.379780</td>\n",
       "      <td>-0.503198</td>\n",
       "      <td>1.800499</td>\n",
       "      <td>0.791461</td>\n",
       "      <td>0.247676</td>\n",
       "      <td>-1.514654</td>\n",
       "      <td>...</td>\n",
       "      <td>0.247998</td>\n",
       "      <td>0.771679</td>\n",
       "      <td>0.909412</td>\n",
       "      <td>-0.689281</td>\n",
       "      <td>-0.327642</td>\n",
       "      <td>-0.139097</td>\n",
       "      <td>-0.055353</td>\n",
       "      <td>-0.059752</td>\n",
       "      <td>378.66</td>\n",
       "      <td>0</td>\n",
       "    </tr>\n",
       "    <tr>\n",
       "      <th>3</th>\n",
       "      <td>1.0</td>\n",
       "      <td>-0.966272</td>\n",
       "      <td>-0.185226</td>\n",
       "      <td>1.792993</td>\n",
       "      <td>-0.863291</td>\n",
       "      <td>-0.010309</td>\n",
       "      <td>1.247203</td>\n",
       "      <td>0.237609</td>\n",
       "      <td>0.377436</td>\n",
       "      <td>-1.387024</td>\n",
       "      <td>...</td>\n",
       "      <td>-0.108300</td>\n",
       "      <td>0.005274</td>\n",
       "      <td>-0.190321</td>\n",
       "      <td>-1.175575</td>\n",
       "      <td>0.647376</td>\n",
       "      <td>-0.221929</td>\n",
       "      <td>0.062723</td>\n",
       "      <td>0.061458</td>\n",
       "      <td>123.50</td>\n",
       "      <td>0</td>\n",
       "    </tr>\n",
       "    <tr>\n",
       "      <th>4</th>\n",
       "      <td>2.0</td>\n",
       "      <td>-1.158233</td>\n",
       "      <td>0.877737</td>\n",
       "      <td>1.548718</td>\n",
       "      <td>0.403034</td>\n",
       "      <td>-0.407193</td>\n",
       "      <td>0.095921</td>\n",
       "      <td>0.592941</td>\n",
       "      <td>-0.270533</td>\n",
       "      <td>0.817739</td>\n",
       "      <td>...</td>\n",
       "      <td>-0.009431</td>\n",
       "      <td>0.798278</td>\n",
       "      <td>-0.137458</td>\n",
       "      <td>0.141267</td>\n",
       "      <td>-0.206010</td>\n",
       "      <td>0.502292</td>\n",
       "      <td>0.219422</td>\n",
       "      <td>0.215153</td>\n",
       "      <td>69.99</td>\n",
       "      <td>0</td>\n",
       "    </tr>\n",
       "  </tbody>\n",
       "</table>\n",
       "<p>5 rows × 31 columns</p>\n",
       "</div>"
      ],
      "text/plain": [
       "   Time        V1        V2        V3        V4        V5        V6        V7  \\\n",
       "0   0.0 -1.359807 -0.072781  2.536347  1.378155 -0.338321  0.462388  0.239599   \n",
       "1   0.0  1.191857  0.266151  0.166480  0.448154  0.060018 -0.082361 -0.078803   \n",
       "2   1.0 -1.358354 -1.340163  1.773209  0.379780 -0.503198  1.800499  0.791461   \n",
       "3   1.0 -0.966272 -0.185226  1.792993 -0.863291 -0.010309  1.247203  0.237609   \n",
       "4   2.0 -1.158233  0.877737  1.548718  0.403034 -0.407193  0.095921  0.592941   \n",
       "\n",
       "         V8        V9  ...       V21       V22       V23       V24       V25  \\\n",
       "0  0.098698  0.363787  ... -0.018307  0.277838 -0.110474  0.066928  0.128539   \n",
       "1  0.085102 -0.255425  ... -0.225775 -0.638672  0.101288 -0.339846  0.167170   \n",
       "2  0.247676 -1.514654  ...  0.247998  0.771679  0.909412 -0.689281 -0.327642   \n",
       "3  0.377436 -1.387024  ... -0.108300  0.005274 -0.190321 -1.175575  0.647376   \n",
       "4 -0.270533  0.817739  ... -0.009431  0.798278 -0.137458  0.141267 -0.206010   \n",
       "\n",
       "        V26       V27       V28  Amount  Class  \n",
       "0 -0.189115  0.133558 -0.021053  149.62      0  \n",
       "1  0.125895 -0.008983  0.014724    2.69      0  \n",
       "2 -0.139097 -0.055353 -0.059752  378.66      0  \n",
       "3 -0.221929  0.062723  0.061458  123.50      0  \n",
       "4  0.502292  0.219422  0.215153   69.99      0  \n",
       "\n",
       "[5 rows x 31 columns]"
      ]
     },
     "execution_count": 36,
     "metadata": {},
     "output_type": "execute_result"
    }
   ],
   "source": [
    "import pandas as pd\n",
    "\n",
    "data_path = '../data/creditcard.csv'\n",
    "raw_data = pd.read_csv(data_path)\n",
    "raw_data.head()"
   ]
  },
  {
   "cell_type": "code",
   "execution_count": 37,
   "id": "81210e05",
   "metadata": {},
   "outputs": [
    {
     "data": {
      "text/plain": [
       "0    284315\n",
       "1       492\n",
       "Name: Class, dtype: int64"
      ]
     },
     "execution_count": 37,
     "metadata": {},
     "output_type": "execute_result"
    }
   ],
   "source": [
    "raw_data['Class'].value_counts()"
   ]
  },
  {
   "cell_type": "code",
   "execution_count": 38,
   "id": "c3758e65",
   "metadata": {},
   "outputs": [
    {
     "name": "stdout",
     "output_type": "stream",
     "text": [
      "Frauds 0.17275 % of the dataset\n"
     ]
    }
   ],
   "source": [
    "fraud_rate = round((raw_data['Class'].value_counts()[1] / len(raw_data) )* 100 , 5)\n",
    "print('Frauds', fraud_rate, '% of the dataset')"
   ]
  },
  {
   "cell_type": "markdown",
   "id": "3b18a310",
   "metadata": {},
   "source": [
    "- 데이터 라벨의 불균형이 매우 심함"
   ]
  },
  {
   "cell_type": "code",
   "execution_count": 39,
   "id": "bcac8d1a",
   "metadata": {},
   "outputs": [
    {
     "data": {
      "image/png": "[encoded data removed]",
      "text/plain": [
       "<Figure size 640x480 with 1 Axes>"
      ]
     },
     "metadata": {},
     "output_type": "display_data"
    }
   ],
   "source": [
    "import seaborn as sns\n",
    "import matplotlib.pyplot as plt\n",
    "\n",
    "sns.countplot(x='Class', data=raw_data)\n",
    "plt.title('Class Distributions \\n (0: No Fraud \\\\ 1: Fraud)', fontsize=14)\n",
    "plt.show();"
   ]
  },
  {
   "cell_type": "markdown",
   "id": "757ed538",
   "metadata": {},
   "source": [
    "---\n",
    "# 2. 데이터 나누기"
   ]
  },
  {
   "cell_type": "code",
   "execution_count": 40,
   "id": "813f5683",
   "metadata": {},
   "outputs": [
    {
     "data": {
      "text/plain": [
       "((284807, 29), (284807,))"
      ]
     },
     "execution_count": 40,
     "metadata": {},
     "output_type": "execute_result"
    }
   ],
   "source": [
    "X = raw_data.iloc[:, 1:-1]\n",
    "y = raw_data.iloc[:, -1]\n",
    "\n",
    "X.shape, y.shape"
   ]
  },
  {
   "cell_type": "code",
   "execution_count": 41,
   "id": "d5ec29ff",
   "metadata": {},
   "outputs": [],
   "source": [
    "from sklearn.model_selection import train_test_split\n",
    "\n",
    "X_train, X_test, y_train, y_test = train_test_split(X, y, test_size=0.3, random_state=13, stratify=y)"
   ]
  },
  {
   "cell_type": "markdown",
   "id": "ecf21849",
   "metadata": {},
   "source": [
    "- stratify 로 불균형성 따라가주기"
   ]
  },
  {
   "cell_type": "markdown",
   "id": "a3be2a1f",
   "metadata": {},
   "source": [
    "### 나눈 데이터의 불균형 정도 확인"
   ]
  },
  {
   "cell_type": "code",
   "execution_count": 42,
   "id": "5a6b3766",
   "metadata": {},
   "outputs": [
    {
     "data": {
      "text/plain": [
       "(array([0, 1], dtype=int64), array([199020,    344], dtype=int64))"
      ]
     },
     "execution_count": 42,
     "metadata": {},
     "output_type": "execute_result"
    }
   ],
   "source": [
    "import numpy as np\n",
    "\n",
    "np.unique(y_train, return_counts=True)"
   ]
  },
  {
   "cell_type": "code",
   "execution_count": 43,
   "id": "00b6854a",
   "metadata": {},
   "outputs": [
    {
     "data": {
      "text/plain": [
       "0.17254870488152324"
      ]
     },
     "execution_count": 43,
     "metadata": {},
     "output_type": "execute_result"
    }
   ],
   "source": [
    "tmp = np.unique(y_train, return_counts=True)[1]\n",
    "tmp[1]/len(y_train) * 100 "
   ]
  },
  {
   "cell_type": "markdown",
   "id": "dd1dd596",
   "metadata": {},
   "source": [
    "- 똑같이 0.17%"
   ]
  },
  {
   "cell_type": "markdown",
   "id": "8ed75944",
   "metadata": {},
   "source": [
    "---\n",
    "# 3. 첫 시도 _ 데이터 정리 없이 모델 학습\n",
    "    \n",
    "    \n",
    "### (0) 분류기 성능을 출력하는 함수 만들기\n",
    "\n",
    "- 은행 입장에서는 Recall 이 좋을 것이다. : 모든 Fraud를 잡고 싶으니까.\n",
    "- 사용자 입장에서는 Precision 이 좋을 것이다. : Recall이 높으면 정상 사용자도 Fraud로 의심받을수 있으니까"
   ]
  },
  {
   "cell_type": "code",
   "execution_count": 44,
   "id": "ca4668eb",
   "metadata": {},
   "outputs": [],
   "source": [
    "from sklearn.metrics import accuracy_score, precision_score, recall_score, f1_score, roc_auc_score\n",
    "\n",
    "def get_clf_eval(y_test, pred):\n",
    "    acc = accuracy_score(y_test, pred)\n",
    "    pre = precision_score(y_test, pred)\n",
    "    re = recall_score(y_test, pred)\n",
    "    f1 = f1_score(y_test, pred)\n",
    "    auc = roc_auc_score(y_test, pred)\n",
    "    \n",
    "    return acc, pre, re, f1, auc"
   ]
  },
  {
   "cell_type": "code",
   "execution_count": 45,
   "id": "639edf75",
   "metadata": {},
   "outputs": [],
   "source": [
    "from sklearn.metrics import confusion_matrix\n",
    "\n",
    "def print_clf_eval(y_test, pred):\n",
    "    confusion = confusion_matrix(y_test, pred)\n",
    "    acc, pre, re, f1, auc =  get_clf_eval(y_test, pred)\n",
    "    \n",
    "    print('=> Confusion Matrix <=')\n",
    "    print(confusion)\n",
    "    print('*' * 50)\n",
    "    print(\"Accuracy : %.4f || Precision : %.4f\" %(acc, pre))\n",
    "    print(\"Recall : %.4f || F1 : %.4f || AUC : %.4f\" %(re, f1, auc))"
   ]
  },
  {
   "cell_type": "markdown",
   "id": "66119a40",
   "metadata": {},
   "source": [
    "### (1) Logistic Regression"
   ]
  },
  {
   "cell_type": "code",
   "execution_count": 46,
   "id": "a615bab9",
   "metadata": {},
   "outputs": [
    {
     "name": "stdout",
     "output_type": "stream",
     "text": [
      "=> Confusion Matrix <=\n",
      "[[85284    11]\n",
      " [   60    88]]\n",
      "**************************************************\n",
      "Accuracy : 0.9992 || Precision : 0.8889\n",
      "Recall : 0.5946 || F1 : 0.7126 || AUC : 0.7972\n",
      "CPU times: total: 9.7 s\n",
      "Wall time: 9.7 s\n"
     ]
    }
   ],
   "source": [
    "%%time\n",
    "\n",
    "\n",
    "from sklearn.linear_model import LogisticRegression\n",
    "\n",
    "lr_clf = LogisticRegression(random_state=13, solver='liblinear')\n",
    "lr_clf.fit(X_train, y_train)\n",
    "lr_pred = lr_clf.predict(X_test)\n",
    "\n",
    "print_clf_eval(y_test, lr_pred)"
   ]
  },
  {
   "cell_type": "markdown",
   "id": "9f5d8e0a",
   "metadata": {},
   "source": [
    "```\n",
    "[85284    11] : 199020개의 0 데이터 중 11개를 잘못 예측함\n",
    "[   60    88] : 344개의 1 데이터 중, 60개를 잘못 예측함\n",
    "```\n",
    "- Accuracy 가 99% 지만, Recall이 60%도 안된다. (Recall : 전체 True 중 True라고 예측한 비율)"
   ]
  },
  {
   "cell_type": "markdown",
   "id": "265c5e65",
   "metadata": {},
   "source": [
    "### (2) Decision Tree"
   ]
  },
  {
   "cell_type": "code",
   "execution_count": 47,
   "id": "fd22f40c",
   "metadata": {},
   "outputs": [
    {
     "name": "stdout",
     "output_type": "stream",
     "text": [
      "=> Confusion Matrix <=\n",
      "[[85281    14]\n",
      " [   42   106]]\n",
      "**************************************************\n",
      "Accuracy : 0.9993 || Precision : 0.8833\n",
      "Recall : 0.7162 || F1 : 0.7910 || AUC : 0.8580\n",
      "CPU times: total: 5.73 s\n",
      "Wall time: 5.75 s\n"
     ]
    }
   ],
   "source": [
    "%%time\n",
    "\n",
    "from sklearn.tree import DecisionTreeClassifier\n",
    "\n",
    "dt_clf = DecisionTreeClassifier(random_state=13, max_depth=4)\n",
    "dt_clf.fit(X_train, y_train)\n",
    "dt_pred = dt_clf.predict(X_test)\n",
    "\n",
    "print_clf_eval(y_test, dt_pred)"
   ]
  },
  {
   "cell_type": "markdown",
   "id": "8bc91143",
   "metadata": {},
   "source": [
    "- Recall 이 높아졌다!"
   ]
  },
  {
   "cell_type": "markdown",
   "id": "6d9d7111",
   "metadata": {},
   "source": [
    "### (3) RandomForest"
   ]
  },
  {
   "cell_type": "code",
   "execution_count": 48,
   "id": "f36098ef",
   "metadata": {},
   "outputs": [
    {
     "name": "stdout",
     "output_type": "stream",
     "text": [
      "=> Confusion Matrix <=\n",
      "[[85290     5]\n",
      " [   38   110]]\n",
      "**************************************************\n",
      "Accuracy : 0.9995 || Precision : 0.9565\n",
      "Recall : 0.7432 || F1 : 0.8365 || AUC : 0.8716\n",
      "CPU times: total: 6min 22s\n",
      "Wall time: 1min 41s\n"
     ]
    }
   ],
   "source": [
    "%%time\n",
    "\n",
    "from sklearn.ensemble import RandomForestClassifier\n",
    "\n",
    "rf_clf = RandomForestClassifier(random_state=13, n_jobs=-1, n_estimators=100)\n",
    "rf_clf.fit(X_train, y_train)\n",
    "rf_pred = rf_clf.predict(X_test)\n",
    "\n",
    "print_clf_eval(y_test, rf_pred)"
   ]
  },
  {
   "cell_type": "markdown",
   "id": "7e52e159",
   "metadata": {},
   "source": [
    "- Recall 이 더 좋아졌다!"
   ]
  },
  {
   "cell_type": "markdown",
   "id": "544dc778",
   "metadata": {},
   "source": [
    "### (4) Light GBM"
   ]
  },
  {
   "cell_type": "code",
   "execution_count": 49,
   "id": "d1364d77",
   "metadata": {},
   "outputs": [
    {
     "name": "stdout",
     "output_type": "stream",
     "text": [
      "=> Confusion Matrix <=\n",
      "[[85289     6]\n",
      " [   34   114]]\n",
      "**************************************************\n",
      "Accuracy : 0.9995 || Precision : 0.9500\n",
      "Recall : 0.7703 || F1 : 0.8507 || AUC : 0.8851\n",
      "CPU times: total: 1min 19s\n",
      "Wall time: 21.6 s\n"
     ]
    }
   ],
   "source": [
    "%%time\n",
    "\n",
    "from lightgbm import LGBMClassifier\n",
    "\n",
    "lgbm_clf = LGBMClassifier(n_estimators=1000, num_leaves=64, n_jobs=-1, boost_from_average=False)\n",
    "lgbm_clf.fit(X_train, y_train)\n",
    "lgbm_pred = lgbm_clf.predict(X_test)\n",
    "\n",
    "print_clf_eval(y_test, lgbm_pred)"
   ]
  },
  {
   "cell_type": "markdown",
   "id": "83c5b3d9",
   "metadata": {},
   "source": [
    "- Recall 이 더 좋아졌다! & RF 보다 훨씬 빠르다!"
   ]
  },
  {
   "cell_type": "markdown",
   "id": "26f3886e",
   "metadata": {},
   "source": [
    "---\n",
    "### (0) 모델과 데이터를 주면 성능을 출력하는 함수"
   ]
  },
  {
   "cell_type": "code",
   "execution_count": 50,
   "id": "68c44c70",
   "metadata": {},
   "outputs": [],
   "source": [
    "def get_res(model, X_train, y_train, X_test, y_test):\n",
    "    model.fit(X_train, y_train)\n",
    "    pred = model.predict(X_test)\n",
    "    \n",
    "    return get_clf_eval(y_test, pred)"
   ]
  },
  {
   "cell_type": "markdown",
   "id": "e4d770f9",
   "metadata": {},
   "source": [
    "### (0) 모델들의 성능을 정리해 DataFrame으로 반환하는 함수\n",
    "- get_res_pd 는 X_test 의 성능을 출력한다."
   ]
  },
  {
   "cell_type": "code",
   "execution_count": 51,
   "id": "c5971b85",
   "metadata": {},
   "outputs": [],
   "source": [
    "def get_res_pd(models, model_names, X_train, y_train, X_test, y_test):\n",
    "    col_names = ['accuracy', 'precision', 'recall', 'f1', 'roc_auc']\n",
    "    tmp = []\n",
    "    \n",
    "    for m in models:\n",
    "        tmp.append(get_res(m, X_train, y_train, X_test, y_test))\n",
    "        \n",
    "    return pd.DataFrame(tmp, columns=col_names, index=model_names)"
   ]
  },
  {
   "cell_type": "markdown",
   "id": "34c4c470",
   "metadata": {},
   "source": [
    "---\n",
    "## (5) 4개 모델을 표로 정리"
   ]
  },
  {
   "cell_type": "code",
   "execution_count": 52,
   "id": "bda28c31",
   "metadata": {},
   "outputs": [
    {
     "name": "stdout",
     "output_type": "stream",
     "text": [
      "CPU times: total: 7min 57s\n",
      "Wall time: 2min 19s\n"
     ]
    },
    {
     "data": {
      "text/html": [
       "<div>\n",
       "<style scoped>\n",
       "    .dataframe tbody tr th:only-of-type {\n",
       "        vertical-align: middle;\n",
       "    }\n",
       "\n",
       "    .dataframe tbody tr th {\n",
       "        vertical-align: top;\n",
       "    }\n",
       "\n",
       "    .dataframe thead th {\n",
       "        text-align: right;\n",
       "    }\n",
       "</style>\n",
       "<table border=\"1\" class=\"dataframe\">\n",
       "  <thead>\n",
       "    <tr style=\"text-align: right;\">\n",
       "      <th></th>\n",
       "      <th>accuracy</th>\n",
       "      <th>precision</th>\n",
       "      <th>recall</th>\n",
       "      <th>f1</th>\n",
       "      <th>roc_auc</th>\n",
       "    </tr>\n",
       "  </thead>\n",
       "  <tbody>\n",
       "    <tr>\n",
       "      <th>LogisticRegression</th>\n",
       "      <td>0.999169</td>\n",
       "      <td>0.888889</td>\n",
       "      <td>0.594595</td>\n",
       "      <td>0.712551</td>\n",
       "      <td>0.797233</td>\n",
       "    </tr>\n",
       "    <tr>\n",
       "      <th>DecisionTree</th>\n",
       "      <td>0.999345</td>\n",
       "      <td>0.883333</td>\n",
       "      <td>0.716216</td>\n",
       "      <td>0.791045</td>\n",
       "      <td>0.858026</td>\n",
       "    </tr>\n",
       "    <tr>\n",
       "      <th>RandomForest</th>\n",
       "      <td>0.999497</td>\n",
       "      <td>0.956522</td>\n",
       "      <td>0.743243</td>\n",
       "      <td>0.836502</td>\n",
       "      <td>0.871592</td>\n",
       "    </tr>\n",
       "    <tr>\n",
       "      <th>LightGBM</th>\n",
       "      <td>0.999532</td>\n",
       "      <td>0.950000</td>\n",
       "      <td>0.770270</td>\n",
       "      <td>0.850746</td>\n",
       "      <td>0.885100</td>\n",
       "    </tr>\n",
       "  </tbody>\n",
       "</table>\n",
       "</div>"
      ],
      "text/plain": [
       "                    accuracy  precision    recall        f1   roc_auc\n",
       "LogisticRegression  0.999169   0.888889  0.594595  0.712551  0.797233\n",
       "DecisionTree        0.999345   0.883333  0.716216  0.791045  0.858026\n",
       "RandomForest        0.999497   0.956522  0.743243  0.836502  0.871592\n",
       "LightGBM            0.999532   0.950000  0.770270  0.850746  0.885100"
      ]
     },
     "execution_count": 52,
     "metadata": {},
     "output_type": "execute_result"
    }
   ],
   "source": [
    "%%time\n",
    "\n",
    "models = [lr_clf, dt_clf, rf_clf, lgbm_clf]\n",
    "model_names = ['LogisticRegression', 'DecisionTree', 'RandomForest', 'LightGBM']\n",
    "\n",
    "res = get_res_pd(models, model_names, X_train, y_train, X_test, y_test)\n",
    "\n",
    "res"
   ]
  },
  {
   "cell_type": "markdown",
   "id": "9e56f21d",
   "metadata": {},
   "source": [
    "- 확실히 앙상블 계열의 성능이 우수"
   ]
  },
  {
   "cell_type": "markdown",
   "id": "4119a34c",
   "metadata": {},
   "source": [
    "---\n",
    "# 4. 두번째 시도 _ 데이터 scale 후 모델 학습\n",
    "\n",
    "## (1) StandardScaler\n",
    "- Amount : 신용카드 사용금액\n",
    "- Amount컬럼의 편향성이 심해서, StandardScaler를 적용한 뒤, 다시 모델 학습을 해보자."
   ]
  },
  {
   "cell_type": "code",
   "execution_count": 53,
   "id": "73d20f5a",
   "metadata": {},
   "outputs": [
    {
     "name": "stderr",
     "output_type": "stream",
     "text": [
      "C:\\Users\\user\\miniconda3\\envs\\ds_study\\lib\\site-packages\\seaborn\\distributions.py:2619: FutureWarning: `distplot` is a deprecated function and will be removed in a future version. Please adapt your code to use either `displot` (a figure-level function with similar flexibility) or `histplot` (an axes-level function for histograms).\n",
      "  warnings.warn(msg, FutureWarning)\n"
     ]
    },
    {
     "data": {
      "image/png": "[encoded data removed]",
      "text/plain": [
       "<Figure size 1000x500 with 1 Axes>"
      ]
     },
     "metadata": {},
     "output_type": "display_data"
    }
   ],
   "source": [
    "plt.figure(figsize=(10, 5))\n",
    "sns.distplot(raw_data['Amount'], color='r')\n",
    "plt.show()"
   ]
  },
  {
   "cell_type": "markdown",
   "id": "aa46eab8",
   "metadata": {},
   "source": [
    "- 컬럼의 분포가 특정 대역기 매우 많다."
   ]
  },
  {
   "cell_type": "markdown",
   "id": "87f4e2d9",
   "metadata": {},
   "source": [
    "### [1] Amount 컬럼에 StandardScaler 적용"
   ]
  },
  {
   "cell_type": "code",
   "execution_count": 54,
   "id": "609487e6",
   "metadata": {},
   "outputs": [
    {
     "data": {
      "text/plain": [
       "0         149.62\n",
       "1           2.69\n",
       "2         378.66\n",
       "3         123.50\n",
       "4          69.99\n",
       "           ...  \n",
       "284802      0.77\n",
       "284803     24.79\n",
       "284804     67.88\n",
       "284805     10.00\n",
       "284806    217.00\n",
       "Name: Amount, Length: 284807, dtype: float64"
      ]
     },
     "execution_count": 54,
     "metadata": {},
     "output_type": "execute_result"
    }
   ],
   "source": [
    "raw_data['Amount']"
   ]
  },
  {
   "cell_type": "code",
   "execution_count": 55,
   "id": "b4190ec8",
   "metadata": {},
   "outputs": [
    {
     "data": {
      "text/plain": [
       "array([149.62,   2.69, 378.66, ...,  67.88,  10.  , 217.  ])"
      ]
     },
     "execution_count": 55,
     "metadata": {},
     "output_type": "execute_result"
    }
   ],
   "source": [
    "raw_data['Amount'].values"
   ]
  },
  {
   "cell_type": "code",
   "execution_count": 56,
   "id": "1d6bfc43",
   "metadata": {},
   "outputs": [
    {
     "data": {
      "text/plain": [
       "numpy.ndarray"
      ]
     },
     "execution_count": 56,
     "metadata": {},
     "output_type": "execute_result"
    }
   ],
   "source": [
    "type(raw_data['Amount'].values)"
   ]
  },
  {
   "cell_type": "code",
   "execution_count": 57,
   "id": "151b9876",
   "metadata": {},
   "outputs": [
    {
     "data": {
      "text/plain": [
       "(284807,)"
      ]
     },
     "execution_count": 57,
     "metadata": {},
     "output_type": "execute_result"
    }
   ],
   "source": [
    "raw_data['Amount'].values.shape"
   ]
  },
  {
   "cell_type": "code",
   "execution_count": 58,
   "id": "024da143",
   "metadata": {},
   "outputs": [
    {
     "data": {
      "text/plain": [
       "array([[149.62],\n",
       "       [  2.69],\n",
       "       [378.66],\n",
       "       ...,\n",
       "       [ 67.88],\n",
       "       [ 10.  ],\n",
       "       [217.  ]])"
      ]
     },
     "execution_count": 58,
     "metadata": {},
     "output_type": "execute_result"
    }
   ],
   "source": [
    "raw_data['Amount'].values.reshape(-1, 1)"
   ]
  },
  {
   "cell_type": "code",
   "execution_count": 59,
   "id": "015c4734",
   "metadata": {},
   "outputs": [
    {
     "data": {
      "text/plain": [
       "(284807, 1)"
      ]
     },
     "execution_count": 59,
     "metadata": {},
     "output_type": "execute_result"
    }
   ],
   "source": [
    "raw_data['Amount'].values.reshape(-1, 1).shape"
   ]
  },
  {
   "cell_type": "code",
   "execution_count": 60,
   "id": "2154193e",
   "metadata": {},
   "outputs": [
    {
     "data": {
      "text/plain": [
       "Index(['Time', 'V1', 'V2', 'V3', 'V4', 'V5', 'V6', 'V7', 'V8', 'V9', 'V10',\n",
       "       'V11', 'V12', 'V13', 'V14', 'V15', 'V16', 'V17', 'V18', 'V19', 'V20',\n",
       "       'V21', 'V22', 'V23', 'V24', 'V25', 'V26', 'V27', 'V28', 'Amount',\n",
       "       'Class'],\n",
       "      dtype='object')"
      ]
     },
     "execution_count": 60,
     "metadata": {},
     "output_type": "execute_result"
    }
   ],
   "source": [
    "raw_data.columns"
   ]
  },
  {
   "cell_type": "code",
   "execution_count": 61,
   "id": "9b2d0df7",
   "metadata": {},
   "outputs": [
    {
     "data": {
      "text/html": [
       "<div>\n",
       "<style scoped>\n",
       "    .dataframe tbody tr th:only-of-type {\n",
       "        vertical-align: middle;\n",
       "    }\n",
       "\n",
       "    .dataframe tbody tr th {\n",
       "        vertical-align: top;\n",
       "    }\n",
       "\n",
       "    .dataframe thead th {\n",
       "        text-align: right;\n",
       "    }\n",
       "</style>\n",
       "<table border=\"1\" class=\"dataframe\">\n",
       "  <thead>\n",
       "    <tr style=\"text-align: right;\">\n",
       "      <th></th>\n",
       "      <th>V1</th>\n",
       "      <th>V2</th>\n",
       "      <th>V3</th>\n",
       "      <th>V4</th>\n",
       "      <th>V5</th>\n",
       "      <th>V6</th>\n",
       "      <th>V7</th>\n",
       "      <th>V8</th>\n",
       "      <th>V9</th>\n",
       "      <th>V10</th>\n",
       "      <th>...</th>\n",
       "      <th>V20</th>\n",
       "      <th>V21</th>\n",
       "      <th>V22</th>\n",
       "      <th>V23</th>\n",
       "      <th>V24</th>\n",
       "      <th>V25</th>\n",
       "      <th>V26</th>\n",
       "      <th>V27</th>\n",
       "      <th>V28</th>\n",
       "      <th>Amount_Scaled</th>\n",
       "    </tr>\n",
       "  </thead>\n",
       "  <tbody>\n",
       "    <tr>\n",
       "      <th>0</th>\n",
       "      <td>-1.359807</td>\n",
       "      <td>-0.072781</td>\n",
       "      <td>2.536347</td>\n",
       "      <td>1.378155</td>\n",
       "      <td>-0.338321</td>\n",
       "      <td>0.462388</td>\n",
       "      <td>0.239599</td>\n",
       "      <td>0.098698</td>\n",
       "      <td>0.363787</td>\n",
       "      <td>0.090794</td>\n",
       "      <td>...</td>\n",
       "      <td>0.251412</td>\n",
       "      <td>-0.018307</td>\n",
       "      <td>0.277838</td>\n",
       "      <td>-0.110474</td>\n",
       "      <td>0.066928</td>\n",
       "      <td>0.128539</td>\n",
       "      <td>-0.189115</td>\n",
       "      <td>0.133558</td>\n",
       "      <td>-0.021053</td>\n",
       "      <td>0.244964</td>\n",
       "    </tr>\n",
       "    <tr>\n",
       "      <th>1</th>\n",
       "      <td>1.191857</td>\n",
       "      <td>0.266151</td>\n",
       "      <td>0.166480</td>\n",
       "      <td>0.448154</td>\n",
       "      <td>0.060018</td>\n",
       "      <td>-0.082361</td>\n",
       "      <td>-0.078803</td>\n",
       "      <td>0.085102</td>\n",
       "      <td>-0.255425</td>\n",
       "      <td>-0.166974</td>\n",
       "      <td>...</td>\n",
       "      <td>-0.069083</td>\n",
       "      <td>-0.225775</td>\n",
       "      <td>-0.638672</td>\n",
       "      <td>0.101288</td>\n",
       "      <td>-0.339846</td>\n",
       "      <td>0.167170</td>\n",
       "      <td>0.125895</td>\n",
       "      <td>-0.008983</td>\n",
       "      <td>0.014724</td>\n",
       "      <td>-0.342475</td>\n",
       "    </tr>\n",
       "    <tr>\n",
       "      <th>2</th>\n",
       "      <td>-1.358354</td>\n",
       "      <td>-1.340163</td>\n",
       "      <td>1.773209</td>\n",
       "      <td>0.379780</td>\n",
       "      <td>-0.503198</td>\n",
       "      <td>1.800499</td>\n",
       "      <td>0.791461</td>\n",
       "      <td>0.247676</td>\n",
       "      <td>-1.514654</td>\n",
       "      <td>0.207643</td>\n",
       "      <td>...</td>\n",
       "      <td>0.524980</td>\n",
       "      <td>0.247998</td>\n",
       "      <td>0.771679</td>\n",
       "      <td>0.909412</td>\n",
       "      <td>-0.689281</td>\n",
       "      <td>-0.327642</td>\n",
       "      <td>-0.139097</td>\n",
       "      <td>-0.055353</td>\n",
       "      <td>-0.059752</td>\n",
       "      <td>1.160686</td>\n",
       "    </tr>\n",
       "    <tr>\n",
       "      <th>3</th>\n",
       "      <td>-0.966272</td>\n",
       "      <td>-0.185226</td>\n",
       "      <td>1.792993</td>\n",
       "      <td>-0.863291</td>\n",
       "      <td>-0.010309</td>\n",
       "      <td>1.247203</td>\n",
       "      <td>0.237609</td>\n",
       "      <td>0.377436</td>\n",
       "      <td>-1.387024</td>\n",
       "      <td>-0.054952</td>\n",
       "      <td>...</td>\n",
       "      <td>-0.208038</td>\n",
       "      <td>-0.108300</td>\n",
       "      <td>0.005274</td>\n",
       "      <td>-0.190321</td>\n",
       "      <td>-1.175575</td>\n",
       "      <td>0.647376</td>\n",
       "      <td>-0.221929</td>\n",
       "      <td>0.062723</td>\n",
       "      <td>0.061458</td>\n",
       "      <td>0.140534</td>\n",
       "    </tr>\n",
       "    <tr>\n",
       "      <th>4</th>\n",
       "      <td>-1.158233</td>\n",
       "      <td>0.877737</td>\n",
       "      <td>1.548718</td>\n",
       "      <td>0.403034</td>\n",
       "      <td>-0.407193</td>\n",
       "      <td>0.095921</td>\n",
       "      <td>0.592941</td>\n",
       "      <td>-0.270533</td>\n",
       "      <td>0.817739</td>\n",
       "      <td>0.753074</td>\n",
       "      <td>...</td>\n",
       "      <td>0.408542</td>\n",
       "      <td>-0.009431</td>\n",
       "      <td>0.798278</td>\n",
       "      <td>-0.137458</td>\n",
       "      <td>0.141267</td>\n",
       "      <td>-0.206010</td>\n",
       "      <td>0.502292</td>\n",
       "      <td>0.219422</td>\n",
       "      <td>0.215153</td>\n",
       "      <td>-0.073403</td>\n",
       "    </tr>\n",
       "  </tbody>\n",
       "</table>\n",
       "<p>5 rows × 29 columns</p>\n",
       "</div>"
      ],
      "text/plain": [
       "         V1        V2        V3        V4        V5        V6        V7  \\\n",
       "0 -1.359807 -0.072781  2.536347  1.378155 -0.338321  0.462388  0.239599   \n",
       "1  1.191857  0.266151  0.166480  0.448154  0.060018 -0.082361 -0.078803   \n",
       "2 -1.358354 -1.340163  1.773209  0.379780 -0.503198  1.800499  0.791461   \n",
       "3 -0.966272 -0.185226  1.792993 -0.863291 -0.010309  1.247203  0.237609   \n",
       "4 -1.158233  0.877737  1.548718  0.403034 -0.407193  0.095921  0.592941   \n",
       "\n",
       "         V8        V9       V10  ...       V20       V21       V22       V23  \\\n",
       "0  0.098698  0.363787  0.090794  ...  0.251412 -0.018307  0.277838 -0.110474   \n",
       "1  0.085102 -0.255425 -0.166974  ... -0.069083 -0.225775 -0.638672  0.101288   \n",
       "2  0.247676 -1.514654  0.207643  ...  0.524980  0.247998  0.771679  0.909412   \n",
       "3  0.377436 -1.387024 -0.054952  ... -0.208038 -0.108300  0.005274 -0.190321   \n",
       "4 -0.270533  0.817739  0.753074  ...  0.408542 -0.009431  0.798278 -0.137458   \n",
       "\n",
       "        V24       V25       V26       V27       V28  Amount_Scaled  \n",
       "0  0.066928  0.128539 -0.189115  0.133558 -0.021053       0.244964  \n",
       "1 -0.339846  0.167170  0.125895 -0.008983  0.014724      -0.342475  \n",
       "2 -0.689281 -0.327642 -0.139097 -0.055353 -0.059752       1.160686  \n",
       "3 -1.175575  0.647376 -0.221929  0.062723  0.061458       0.140534  \n",
       "4  0.141267 -0.206010  0.502292  0.219422  0.215153      -0.073403  \n",
       "\n",
       "[5 rows x 29 columns]"
      ]
     },
     "execution_count": 61,
     "metadata": {},
     "output_type": "execute_result"
    }
   ],
   "source": [
    "from sklearn.preprocessing import StandardScaler\n",
    "\n",
    "sd_scaler = StandardScaler()\n",
    "amount_sd = sd_scaler.fit_transform(raw_data['Amount'].values.reshape(-1, 1))\n",
    "\n",
    "raw_data_copy = raw_data.iloc[:, 1:-2]\n",
    "raw_data_copy['Amount_Scaled'] = amount_sd\n",
    "raw_data_copy.head()"
   ]
  },
  {
   "cell_type": "code",
   "execution_count": 62,
   "id": "32601a40",
   "metadata": {},
   "outputs": [
    {
     "name": "stderr",
     "output_type": "stream",
     "text": [
      "C:\\Users\\user\\miniconda3\\envs\\ds_study\\lib\\site-packages\\seaborn\\distributions.py:2619: FutureWarning: `distplot` is a deprecated function and will be removed in a future version. Please adapt your code to use either `displot` (a figure-level function with similar flexibility) or `histplot` (an axes-level function for histograms).\n",
      "  warnings.warn(msg, FutureWarning)\n"
     ]
    },
    {
     "data": {
      "image/png": "[encoded data removed]",
      "text/plain": [
       "<Figure size 1200x500 with 1 Axes>"
      ]
     },
     "metadata": {},
     "output_type": "display_data"
    }
   ],
   "source": [
    "plt.figure(figsize=(12, 5))\n",
    "sns.distplot(raw_data_copy['Amount_Scaled'], color='r')\n",
    "plt.show()"
   ]
  },
  {
   "cell_type": "markdown",
   "id": "7205459a",
   "metadata": {},
   "source": [
    "### [2] 데이터 재분할"
   ]
  },
  {
   "cell_type": "code",
   "execution_count": 63,
   "id": "8cb58963",
   "metadata": {},
   "outputs": [],
   "source": [
    "X_train, X_test, y_train, y_test = train_test_split(raw_data_copy, y, test_size=0.3, random_state=13, stratify=y)"
   ]
  },
  {
   "cell_type": "markdown",
   "id": "01b6c72e",
   "metadata": {},
   "source": [
    "---\n",
    "### [3]  정리한 데이터 모델에 학습"
   ]
  },
  {
   "cell_type": "code",
   "execution_count": 64,
   "id": "27683b41",
   "metadata": {},
   "outputs": [
    {
     "name": "stdout",
     "output_type": "stream",
     "text": [
      "CPU times: total: 7min 50s\n",
      "Wall time: 2min 13s\n"
     ]
    },
    {
     "data": {
      "text/html": [
       "<div>\n",
       "<style scoped>\n",
       "    .dataframe tbody tr th:only-of-type {\n",
       "        vertical-align: middle;\n",
       "    }\n",
       "\n",
       "    .dataframe tbody tr th {\n",
       "        vertical-align: top;\n",
       "    }\n",
       "\n",
       "    .dataframe thead th {\n",
       "        text-align: right;\n",
       "    }\n",
       "</style>\n",
       "<table border=\"1\" class=\"dataframe\">\n",
       "  <thead>\n",
       "    <tr style=\"text-align: right;\">\n",
       "      <th></th>\n",
       "      <th>accuracy</th>\n",
       "      <th>precision</th>\n",
       "      <th>recall</th>\n",
       "      <th>f1</th>\n",
       "      <th>roc_auc</th>\n",
       "    </tr>\n",
       "  </thead>\n",
       "  <tbody>\n",
       "    <tr>\n",
       "      <th>LogisticRegression</th>\n",
       "      <td>0.999169</td>\n",
       "      <td>0.888889</td>\n",
       "      <td>0.594595</td>\n",
       "      <td>0.712551</td>\n",
       "      <td>0.797233</td>\n",
       "    </tr>\n",
       "    <tr>\n",
       "      <th>DecisionTree</th>\n",
       "      <td>0.999345</td>\n",
       "      <td>0.883333</td>\n",
       "      <td>0.716216</td>\n",
       "      <td>0.791045</td>\n",
       "      <td>0.858026</td>\n",
       "    </tr>\n",
       "    <tr>\n",
       "      <th>RandomForest</th>\n",
       "      <td>0.999497</td>\n",
       "      <td>0.956522</td>\n",
       "      <td>0.743243</td>\n",
       "      <td>0.836502</td>\n",
       "      <td>0.871592</td>\n",
       "    </tr>\n",
       "    <tr>\n",
       "      <th>LightGBM</th>\n",
       "      <td>0.999520</td>\n",
       "      <td>0.949580</td>\n",
       "      <td>0.763514</td>\n",
       "      <td>0.846442</td>\n",
       "      <td>0.881722</td>\n",
       "    </tr>\n",
       "  </tbody>\n",
       "</table>\n",
       "</div>"
      ],
      "text/plain": [
       "                    accuracy  precision    recall        f1   roc_auc\n",
       "LogisticRegression  0.999169   0.888889  0.594595  0.712551  0.797233\n",
       "DecisionTree        0.999345   0.883333  0.716216  0.791045  0.858026\n",
       "RandomForest        0.999497   0.956522  0.743243  0.836502  0.871592\n",
       "LightGBM            0.999520   0.949580  0.763514  0.846442  0.881722"
      ]
     },
     "execution_count": 64,
     "metadata": {},
     "output_type": "execute_result"
    }
   ],
   "source": [
    "%%time\n",
    "\n",
    "models = [lr_clf, dt_clf, rf_clf, lgbm_clf]\n",
    "model_names = ['LogisticRegression', 'DecisionTree', 'RandomForest', 'LightGBM']\n",
    "\n",
    "res = get_res_pd(models, model_names, X_train, y_train, X_test, y_test)\n",
    "\n",
    "res"
   ]
  },
  {
   "cell_type": "markdown",
   "id": "bff7ac46",
   "metadata": {},
   "source": [
    "- recall 에 큰 변화가 없음.."
   ]
  },
  {
   "cell_type": "markdown",
   "id": "41bd8315",
   "metadata": {},
   "source": [
    "### [4] 모델별 ROC 커브"
   ]
  },
  {
   "cell_type": "code",
   "execution_count": 65,
   "id": "b1168d06",
   "metadata": {},
   "outputs": [],
   "source": [
    "from sklearn.metrics import roc_curve\n",
    "\n",
    "def draw_roc_curve(models, model_names, X_test, y_test):\n",
    "    plt.figure(figsize=(10, 10))\n",
    "    \n",
    "    for m in range(len(models)):\n",
    "        pred = models[m].predict_proba(X_test)[:, 1]  # roc 커브는 predict_proba 값으로 그린다.\n",
    "        fpr, tpr, threshold = roc_curve(y_test, pred)\n",
    "        plt.plot(fpr, tpr, label=model_names[m])\n",
    "    \n",
    "    plt.plot([0,1], [0,1], 'k--', label='random quess') # 대각선\n",
    "    plt.title('ROC')\n",
    "    plt.legend()\n",
    "    plt.grid()\n",
    "    plt.show()"
   ]
  },
  {
   "cell_type": "code",
   "execution_count": 66,
   "id": "e4731f0a",
   "metadata": {},
   "outputs": [
    {
     "data": {
      "image/png": "[encoded data removed]",
      "text/plain": [
       "<Figure size 1000x1000 with 1 Axes>"
      ]
     },
     "metadata": {},
     "output_type": "display_data"
    }
   ],
   "source": [
    "draw_roc_curve(models, model_names, X_test, y_test)"
   ]
  },
  {
   "cell_type": "markdown",
   "id": "7ee6c185",
   "metadata": {},
   "source": [
    "---\n",
    "## (2) log scale "
   ]
  },
  {
   "cell_type": "markdown",
   "id": "80ee2454",
   "metadata": {},
   "source": [
    "### [1] scale 적용"
   ]
  },
  {
   "cell_type": "code",
   "execution_count": 67,
   "id": "aedd4a23",
   "metadata": {},
   "outputs": [
    {
     "data": {
      "text/html": [
       "<div>\n",
       "<style scoped>\n",
       "    .dataframe tbody tr th:only-of-type {\n",
       "        vertical-align: middle;\n",
       "    }\n",
       "\n",
       "    .dataframe tbody tr th {\n",
       "        vertical-align: top;\n",
       "    }\n",
       "\n",
       "    .dataframe thead th {\n",
       "        text-align: right;\n",
       "    }\n",
       "</style>\n",
       "<table border=\"1\" class=\"dataframe\">\n",
       "  <thead>\n",
       "    <tr style=\"text-align: right;\">\n",
       "      <th></th>\n",
       "      <th>V1</th>\n",
       "      <th>V2</th>\n",
       "      <th>V3</th>\n",
       "      <th>V4</th>\n",
       "      <th>V5</th>\n",
       "      <th>V6</th>\n",
       "      <th>V7</th>\n",
       "      <th>V8</th>\n",
       "      <th>V9</th>\n",
       "      <th>V10</th>\n",
       "      <th>...</th>\n",
       "      <th>V20</th>\n",
       "      <th>V21</th>\n",
       "      <th>V22</th>\n",
       "      <th>V23</th>\n",
       "      <th>V24</th>\n",
       "      <th>V25</th>\n",
       "      <th>V26</th>\n",
       "      <th>V27</th>\n",
       "      <th>V28</th>\n",
       "      <th>Amount_Scaled</th>\n",
       "    </tr>\n",
       "  </thead>\n",
       "  <tbody>\n",
       "    <tr>\n",
       "      <th>0</th>\n",
       "      <td>-1.359807</td>\n",
       "      <td>-0.072781</td>\n",
       "      <td>2.536347</td>\n",
       "      <td>1.378155</td>\n",
       "      <td>-0.338321</td>\n",
       "      <td>0.462388</td>\n",
       "      <td>0.239599</td>\n",
       "      <td>0.098698</td>\n",
       "      <td>0.363787</td>\n",
       "      <td>0.090794</td>\n",
       "      <td>...</td>\n",
       "      <td>0.251412</td>\n",
       "      <td>-0.018307</td>\n",
       "      <td>0.277838</td>\n",
       "      <td>-0.110474</td>\n",
       "      <td>0.066928</td>\n",
       "      <td>0.128539</td>\n",
       "      <td>-0.189115</td>\n",
       "      <td>0.133558</td>\n",
       "      <td>-0.021053</td>\n",
       "      <td>5.014760</td>\n",
       "    </tr>\n",
       "    <tr>\n",
       "      <th>1</th>\n",
       "      <td>1.191857</td>\n",
       "      <td>0.266151</td>\n",
       "      <td>0.166480</td>\n",
       "      <td>0.448154</td>\n",
       "      <td>0.060018</td>\n",
       "      <td>-0.082361</td>\n",
       "      <td>-0.078803</td>\n",
       "      <td>0.085102</td>\n",
       "      <td>-0.255425</td>\n",
       "      <td>-0.166974</td>\n",
       "      <td>...</td>\n",
       "      <td>-0.069083</td>\n",
       "      <td>-0.225775</td>\n",
       "      <td>-0.638672</td>\n",
       "      <td>0.101288</td>\n",
       "      <td>-0.339846</td>\n",
       "      <td>0.167170</td>\n",
       "      <td>0.125895</td>\n",
       "      <td>-0.008983</td>\n",
       "      <td>0.014724</td>\n",
       "      <td>1.305626</td>\n",
       "    </tr>\n",
       "    <tr>\n",
       "      <th>2</th>\n",
       "      <td>-1.358354</td>\n",
       "      <td>-1.340163</td>\n",
       "      <td>1.773209</td>\n",
       "      <td>0.379780</td>\n",
       "      <td>-0.503198</td>\n",
       "      <td>1.800499</td>\n",
       "      <td>0.791461</td>\n",
       "      <td>0.247676</td>\n",
       "      <td>-1.514654</td>\n",
       "      <td>0.207643</td>\n",
       "      <td>...</td>\n",
       "      <td>0.524980</td>\n",
       "      <td>0.247998</td>\n",
       "      <td>0.771679</td>\n",
       "      <td>0.909412</td>\n",
       "      <td>-0.689281</td>\n",
       "      <td>-0.327642</td>\n",
       "      <td>-0.139097</td>\n",
       "      <td>-0.055353</td>\n",
       "      <td>-0.059752</td>\n",
       "      <td>5.939276</td>\n",
       "    </tr>\n",
       "    <tr>\n",
       "      <th>3</th>\n",
       "      <td>-0.966272</td>\n",
       "      <td>-0.185226</td>\n",
       "      <td>1.792993</td>\n",
       "      <td>-0.863291</td>\n",
       "      <td>-0.010309</td>\n",
       "      <td>1.247203</td>\n",
       "      <td>0.237609</td>\n",
       "      <td>0.377436</td>\n",
       "      <td>-1.387024</td>\n",
       "      <td>-0.054952</td>\n",
       "      <td>...</td>\n",
       "      <td>-0.208038</td>\n",
       "      <td>-0.108300</td>\n",
       "      <td>0.005274</td>\n",
       "      <td>-0.190321</td>\n",
       "      <td>-1.175575</td>\n",
       "      <td>0.647376</td>\n",
       "      <td>-0.221929</td>\n",
       "      <td>0.062723</td>\n",
       "      <td>0.061458</td>\n",
       "      <td>4.824306</td>\n",
       "    </tr>\n",
       "    <tr>\n",
       "      <th>4</th>\n",
       "      <td>-1.158233</td>\n",
       "      <td>0.877737</td>\n",
       "      <td>1.548718</td>\n",
       "      <td>0.403034</td>\n",
       "      <td>-0.407193</td>\n",
       "      <td>0.095921</td>\n",
       "      <td>0.592941</td>\n",
       "      <td>-0.270533</td>\n",
       "      <td>0.817739</td>\n",
       "      <td>0.753074</td>\n",
       "      <td>...</td>\n",
       "      <td>0.408542</td>\n",
       "      <td>-0.009431</td>\n",
       "      <td>0.798278</td>\n",
       "      <td>-0.137458</td>\n",
       "      <td>0.141267</td>\n",
       "      <td>-0.206010</td>\n",
       "      <td>0.502292</td>\n",
       "      <td>0.219422</td>\n",
       "      <td>0.215153</td>\n",
       "      <td>4.262539</td>\n",
       "    </tr>\n",
       "  </tbody>\n",
       "</table>\n",
       "<p>5 rows × 29 columns</p>\n",
       "</div>"
      ],
      "text/plain": [
       "         V1        V2        V3        V4        V5        V6        V7  \\\n",
       "0 -1.359807 -0.072781  2.536347  1.378155 -0.338321  0.462388  0.239599   \n",
       "1  1.191857  0.266151  0.166480  0.448154  0.060018 -0.082361 -0.078803   \n",
       "2 -1.358354 -1.340163  1.773209  0.379780 -0.503198  1.800499  0.791461   \n",
       "3 -0.966272 -0.185226  1.792993 -0.863291 -0.010309  1.247203  0.237609   \n",
       "4 -1.158233  0.877737  1.548718  0.403034 -0.407193  0.095921  0.592941   \n",
       "\n",
       "         V8        V9       V10  ...       V20       V21       V22       V23  \\\n",
       "0  0.098698  0.363787  0.090794  ...  0.251412 -0.018307  0.277838 -0.110474   \n",
       "1  0.085102 -0.255425 -0.166974  ... -0.069083 -0.225775 -0.638672  0.101288   \n",
       "2  0.247676 -1.514654  0.207643  ...  0.524980  0.247998  0.771679  0.909412   \n",
       "3  0.377436 -1.387024 -0.054952  ... -0.208038 -0.108300  0.005274 -0.190321   \n",
       "4 -0.270533  0.817739  0.753074  ...  0.408542 -0.009431  0.798278 -0.137458   \n",
       "\n",
       "        V24       V25       V26       V27       V28  Amount_Scaled  \n",
       "0  0.066928  0.128539 -0.189115  0.133558 -0.021053       5.014760  \n",
       "1 -0.339846  0.167170  0.125895 -0.008983  0.014724       1.305626  \n",
       "2 -0.689281 -0.327642 -0.139097 -0.055353 -0.059752       5.939276  \n",
       "3 -1.175575  0.647376 -0.221929  0.062723  0.061458       4.824306  \n",
       "4  0.141267 -0.206010  0.502292  0.219422  0.215153       4.262539  \n",
       "\n",
       "[5 rows x 29 columns]"
      ]
     },
     "execution_count": 67,
     "metadata": {},
     "output_type": "execute_result"
    }
   ],
   "source": [
    "amount_log = np.log1p(raw_data['Amount'])\n",
    "\n",
    "raw_data_copy['Amount_Scaled'] = amount_log\n",
    "raw_data_copy.head()"
   ]
  },
  {
   "cell_type": "code",
   "execution_count": 68,
   "id": "57fa6314",
   "metadata": {},
   "outputs": [
    {
     "name": "stderr",
     "output_type": "stream",
     "text": [
      "C:\\Users\\user\\miniconda3\\envs\\ds_study\\lib\\site-packages\\seaborn\\distributions.py:2619: FutureWarning: `distplot` is a deprecated function and will be removed in a future version. Please adapt your code to use either `displot` (a figure-level function with similar flexibility) or `histplot` (an axes-level function for histograms).\n",
      "  warnings.warn(msg, FutureWarning)\n"
     ]
    },
    {
     "data": {
      "image/png": "[encoded data removed]",
      "text/plain": [
       "<Figure size 1200x500 with 1 Axes>"
      ]
     },
     "metadata": {},
     "output_type": "display_data"
    }
   ],
   "source": [
    "plt.figure(figsize=(12, 5))\n",
    "sns.distplot(raw_data_copy['Amount_Scaled'], color='r')\n",
    "plt.show()"
   ]
  },
  {
   "cell_type": "markdown",
   "id": "fba25921",
   "metadata": {},
   "source": [
    "- Amount 컬럼의 분포가 변함"
   ]
  },
  {
   "cell_type": "markdown",
   "id": "e953d927",
   "metadata": {},
   "source": [
    "### [2] 데이터 재분할"
   ]
  },
  {
   "cell_type": "code",
   "execution_count": 69,
   "id": "c1664445",
   "metadata": {},
   "outputs": [],
   "source": [
    "X_train, X_test, y_train, y_test = train_test_split(raw_data_copy, y, test_size=0.3, random_state=13, stratify=y)"
   ]
  },
  {
   "cell_type": "markdown",
   "id": "6e48b5f1",
   "metadata": {},
   "source": [
    "### [3] 모델에 학습"
   ]
  },
  {
   "cell_type": "code",
   "execution_count": 70,
   "id": "137ac0e7",
   "metadata": {},
   "outputs": [
    {
     "name": "stdout",
     "output_type": "stream",
     "text": [
      "CPU times: total: 7min 49s\n",
      "Wall time: 2min 11s\n"
     ]
    },
    {
     "data": {
      "text/html": [
       "<div>\n",
       "<style scoped>\n",
       "    .dataframe tbody tr th:only-of-type {\n",
       "        vertical-align: middle;\n",
       "    }\n",
       "\n",
       "    .dataframe tbody tr th {\n",
       "        vertical-align: top;\n",
       "    }\n",
       "\n",
       "    .dataframe thead th {\n",
       "        text-align: right;\n",
       "    }\n",
       "</style>\n",
       "<table border=\"1\" class=\"dataframe\">\n",
       "  <thead>\n",
       "    <tr style=\"text-align: right;\">\n",
       "      <th></th>\n",
       "      <th>accuracy</th>\n",
       "      <th>precision</th>\n",
       "      <th>recall</th>\n",
       "      <th>f1</th>\n",
       "      <th>roc_auc</th>\n",
       "    </tr>\n",
       "  </thead>\n",
       "  <tbody>\n",
       "    <tr>\n",
       "      <th>LogisticRegression</th>\n",
       "      <td>0.999157</td>\n",
       "      <td>0.887755</td>\n",
       "      <td>0.587838</td>\n",
       "      <td>0.707317</td>\n",
       "      <td>0.793854</td>\n",
       "    </tr>\n",
       "    <tr>\n",
       "      <th>DecisionTree</th>\n",
       "      <td>0.999345</td>\n",
       "      <td>0.883333</td>\n",
       "      <td>0.716216</td>\n",
       "      <td>0.791045</td>\n",
       "      <td>0.858026</td>\n",
       "    </tr>\n",
       "    <tr>\n",
       "      <th>RandomForest</th>\n",
       "      <td>0.999497</td>\n",
       "      <td>0.956522</td>\n",
       "      <td>0.743243</td>\n",
       "      <td>0.836502</td>\n",
       "      <td>0.871592</td>\n",
       "    </tr>\n",
       "    <tr>\n",
       "      <th>LightGBM</th>\n",
       "      <td>0.999532</td>\n",
       "      <td>0.950000</td>\n",
       "      <td>0.770270</td>\n",
       "      <td>0.850746</td>\n",
       "      <td>0.885100</td>\n",
       "    </tr>\n",
       "  </tbody>\n",
       "</table>\n",
       "</div>"
      ],
      "text/plain": [
       "                    accuracy  precision    recall        f1   roc_auc\n",
       "LogisticRegression  0.999157   0.887755  0.587838  0.707317  0.793854\n",
       "DecisionTree        0.999345   0.883333  0.716216  0.791045  0.858026\n",
       "RandomForest        0.999497   0.956522  0.743243  0.836502  0.871592\n",
       "LightGBM            0.999532   0.950000  0.770270  0.850746  0.885100"
      ]
     },
     "execution_count": 70,
     "metadata": {},
     "output_type": "execute_result"
    }
   ],
   "source": [
    "%%time\n",
    "\n",
    "models = [lr_clf, dt_clf, rf_clf, lgbm_clf]\n",
    "model_names = ['LogisticRegression', 'DecisionTree', 'RandomForest', 'LightGBM']\n",
    "\n",
    "res = get_res_pd(models, model_names, X_train, y_train, X_test, y_test)\n",
    "\n",
    "res"
   ]
  },
  {
   "cell_type": "markdown",
   "id": "b6c6ff13",
   "metadata": {},
   "source": [
    "- 큰 변화는 보이지 않는다."
   ]
  },
  {
   "cell_type": "markdown",
   "id": "1217e10f",
   "metadata": {},
   "source": [
    "### [4] ROC 커브"
   ]
  },
  {
   "cell_type": "code",
   "execution_count": 71,
   "id": "0c231302",
   "metadata": {},
   "outputs": [
    {
     "data": {
      "image/png": "[encoded data removed]",
      "text/plain": [
       "<Figure size 1000x1000 with 1 Axes>"
      ]
     },
     "metadata": {},
     "output_type": "display_data"
    }
   ],
   "source": [
    "draw_roc_curve(models, model_names, X_test, y_test)"
   ]
  },
  {
   "cell_type": "markdown",
   "id": "a5a3a748",
   "metadata": {},
   "source": [
    "---\n",
    "# 5. 세번째 시도 _ Outlier 정리"
   ]
  },
  {
   "cell_type": "markdown",
   "id": "63c13f90",
   "metadata": {},
   "source": [
    "### (1) 이상점 찾기"
   ]
  },
  {
   "cell_type": "code",
   "execution_count": 72,
   "id": "eccbb9c6",
   "metadata": {},
   "outputs": [
    {
     "data": {
      "image/png": "[encoded data removed]",
      "text/plain": [
       "<Figure size 1200x700 with 1 Axes>"
      ]
     },
     "metadata": {},
     "output_type": "display_data"
    }
   ],
   "source": [
    "import seaborn as sns\n",
    "import matplotlib.pyplot as plt\n",
    "\n",
    "plt.figure(figsize=(12, 7))\n",
    "sns.boxplot(data=raw_data[['V13', 'V14', 'V15']])           ;"
   ]
  },
  {
   "cell_type": "markdown",
   "id": "92d796f8",
   "metadata": {},
   "source": [
    "- V14 컬럼에 이상점 발견(아래쪽)"
   ]
  },
  {
   "cell_type": "markdown",
   "id": "eeb1d660",
   "metadata": {},
   "source": [
    "### (2) 이상점 정리"
   ]
  },
  {
   "cell_type": "code",
   "execution_count": 73,
   "id": "ad9e23d8",
   "metadata": {},
   "outputs": [],
   "source": [
    "import numpy as np\n",
    "\n",
    "def get_outlier(df=None, column=None, weight=1.5):\n",
    "    fraud = df[df['Class'] == 1][column]\n",
    "    q_25 = np.percentile(fraud.values, 25)\n",
    "    q_75 = np.percentile(fraud.values, 75)\n",
    "    \n",
    "    iqr = q_75 - q_25\n",
    "    iqr_weight = iqr * weight\n",
    "    lowet_val = q_25 - iqr_weight\n",
    "    highest_val = q_75 + iqr_weight\n",
    "    \n",
    "    outlier_index = fraud[(fraud < lowet_val) | (fraud > highest_val)].index  # | : OR\n",
    "    \n",
    "    return outlier_index"
   ]
  },
  {
   "cell_type": "code",
   "execution_count": 74,
   "id": "b38becd7",
   "metadata": {},
   "outputs": [
    {
     "data": {
      "text/plain": [
       "Int64Index([8296, 8615, 9035, 9252], dtype='int64')"
      ]
     },
     "execution_count": 74,
     "metadata": {},
     "output_type": "execute_result"
    }
   ],
   "source": [
    "# 이상점 찾기\n",
    "get_outlier(df=raw_data, column='V14', weight=1.5)"
   ]
  },
  {
   "cell_type": "markdown",
   "id": "5c04687f",
   "metadata": {},
   "source": [
    "- 이상점 4개 발견"
   ]
  },
  {
   "cell_type": "markdown",
   "id": "803816c8",
   "metadata": {},
   "source": [
    "### (3) 이상점 제거"
   ]
  },
  {
   "cell_type": "code",
   "execution_count": 75,
   "id": "67fe6eec",
   "metadata": {},
   "outputs": [
    {
     "data": {
      "text/plain": [
       "(284807, 29)"
      ]
     },
     "execution_count": 75,
     "metadata": {},
     "output_type": "execute_result"
    }
   ],
   "source": [
    "raw_data_copy.shape"
   ]
  },
  {
   "cell_type": "code",
   "execution_count": 76,
   "id": "0707bca5",
   "metadata": {},
   "outputs": [
    {
     "data": {
      "text/plain": [
       "(284803, 29)"
      ]
     },
     "execution_count": 76,
     "metadata": {},
     "output_type": "execute_result"
    }
   ],
   "source": [
    "outlier_index = get_outlier(df=raw_data, column='V14', weight=1.5)\n",
    "raw_data_copy.drop(outlier_index, axis=0, inplace=True)  #  axis=0 : 행 방향으로 삭제\n",
    "raw_data_copy.shape"
   ]
  },
  {
   "cell_type": "markdown",
   "id": "154ae2a7",
   "metadata": {},
   "source": [
    "### (4) 데이터 나누기"
   ]
  },
  {
   "cell_type": "code",
   "execution_count": 77,
   "id": "ac8d7d56",
   "metadata": {},
   "outputs": [],
   "source": [
    "# raw_data_copy : 스케일러 적용 함 / y값('Amount') 없음\n",
    "# raw_data : 스케일러 적용 안함\n",
    "\n",
    "X = raw_data_copy\n",
    "\n",
    "raw_data.drop(outlier_index, axis=0, inplace=True)\n",
    "y = raw_data.iloc[:, -1]\n",
    "\n",
    "X_train,X_test, y_train, y_test = train_test_split(X, y, test_size=0.3, random_state=13, stratify=y)"
   ]
  },
  {
   "cell_type": "code",
   "execution_count": 78,
   "id": "ab931af6",
   "metadata": {},
   "outputs": [
    {
     "name": "stdout",
     "output_type": "stream",
     "text": [
      "CPU times: total: 7min 33s\n",
      "Wall time: 2min 6s\n"
     ]
    },
    {
     "data": {
      "text/html": [
       "<div>\n",
       "<style scoped>\n",
       "    .dataframe tbody tr th:only-of-type {\n",
       "        vertical-align: middle;\n",
       "    }\n",
       "\n",
       "    .dataframe tbody tr th {\n",
       "        vertical-align: top;\n",
       "    }\n",
       "\n",
       "    .dataframe thead th {\n",
       "        text-align: right;\n",
       "    }\n",
       "</style>\n",
       "<table border=\"1\" class=\"dataframe\">\n",
       "  <thead>\n",
       "    <tr style=\"text-align: right;\">\n",
       "      <th></th>\n",
       "      <th>accuracy</th>\n",
       "      <th>precision</th>\n",
       "      <th>recall</th>\n",
       "      <th>f1</th>\n",
       "      <th>roc_auc</th>\n",
       "    </tr>\n",
       "  </thead>\n",
       "  <tbody>\n",
       "    <tr>\n",
       "      <th>Rogistic Regression</th>\n",
       "      <td>0.999286</td>\n",
       "      <td>0.904762</td>\n",
       "      <td>0.650685</td>\n",
       "      <td>0.756972</td>\n",
       "      <td>0.825284</td>\n",
       "    </tr>\n",
       "    <tr>\n",
       "      <th>Decision Tree</th>\n",
       "      <td>0.999427</td>\n",
       "      <td>0.870229</td>\n",
       "      <td>0.780822</td>\n",
       "      <td>0.823105</td>\n",
       "      <td>0.890311</td>\n",
       "    </tr>\n",
       "    <tr>\n",
       "      <th>Random Forest</th>\n",
       "      <td>0.999497</td>\n",
       "      <td>0.918699</td>\n",
       "      <td>0.773973</td>\n",
       "      <td>0.840149</td>\n",
       "      <td>0.886928</td>\n",
       "    </tr>\n",
       "    <tr>\n",
       "      <th>LightGBM</th>\n",
       "      <td>0.999602</td>\n",
       "      <td>0.951613</td>\n",
       "      <td>0.808219</td>\n",
       "      <td>0.874074</td>\n",
       "      <td>0.904074</td>\n",
       "    </tr>\n",
       "  </tbody>\n",
       "</table>\n",
       "</div>"
      ],
      "text/plain": [
       "                     accuracy  precision    recall        f1   roc_auc\n",
       "Rogistic Regression  0.999286   0.904762  0.650685  0.756972  0.825284\n",
       "Decision Tree        0.999427   0.870229  0.780822  0.823105  0.890311\n",
       "Random Forest        0.999497   0.918699  0.773973  0.840149  0.886928\n",
       "LightGBM             0.999602   0.951613  0.808219  0.874074  0.904074"
      ]
     },
     "execution_count": 78,
     "metadata": {},
     "output_type": "execute_result"
    }
   ],
   "source": [
    "%%time\n",
    "\n",
    "models = [lr_clf, dt_clf, rf_clf, lgbm_clf]\n",
    "model_names = ['Rogistic Regression', 'Decision Tree', 'Random Forest', 'LightGBM']\n",
    "\n",
    "res = get_res_pd(models, model_names, X_train, y_train, X_test, y_test)\n",
    "\n",
    "res"
   ]
  },
  {
   "cell_type": "markdown",
   "id": "9faae912",
   "metadata": {},
   "source": [
    "- LightGBM의 recall값이 조금 좋아졌다!"
   ]
  },
  {
   "cell_type": "markdown",
   "id": "a6f87ae3",
   "metadata": {},
   "source": [
    "### (5) ROC 그래프"
   ]
  },
  {
   "cell_type": "code",
   "execution_count": 79,
   "id": "5ed58356",
   "metadata": {},
   "outputs": [
    {
     "data": {
      "image/png": "[encoded data removed]",
      "text/plain": [
       "<Figure size 1000x1000 with 1 Axes>"
      ]
     },
     "metadata": {},
     "output_type": "display_data"
    }
   ],
   "source": [
    "draw_roc_curve(models, model_names, X_test, y_test)"
   ]
  },
  {
   "cell_type": "markdown",
   "id": "cd9a19a1",
   "metadata": {},
   "source": [
    "---\n",
    "# 6. 네번째 시도 _ OverSampling\n",
    "- 데이터의 불균형이 심할 때 두 클래스의 분포를 강제로 맞춰보는 작업\n",
    "- 원본데이터의 피처 값들을 아주 약간 변경하여 증식\n",
    "- 대툐적으로 SMOTE(Synthetic Minority Over-sampling Technique) 방법이 존대\n",
    "- 적은 데이터셍에 있는 개별 데이터를 K-최근접이웃 방법으로 찾아서 데이터의 분포 사이에 새로운 데이터를 만드는 방식\n",
    "- imbalanced-learn 이라는 Python pkg가 존재\n",
    "\n",
    "\n",
    "\n",
    "- 반) Under Sampling : 많은 수의 데이터를 적은 수의 데이터로 강제로 조정"
   ]
  },
  {
   "cell_type": "code",
   "execution_count": 80,
   "id": "ccdef1e6",
   "metadata": {},
   "outputs": [],
   "source": [
    "#!pip install imbalanced-learn"
   ]
  },
  {
   "cell_type": "markdown",
   "id": "8c6f4c32",
   "metadata": {},
   "source": [
    "### (1) SMOTE 적용"
   ]
  },
  {
   "cell_type": "code",
   "execution_count": 81,
   "id": "03e15a93",
   "metadata": {},
   "outputs": [],
   "source": [
    "from imblearn.over_sampling import SMOTE"
   ]
  },
  {
   "cell_type": "code",
   "execution_count": 82,
   "id": "0b818d7e",
   "metadata": {},
   "outputs": [],
   "source": [
    "smote = SMOTE(random_state=13)\n",
    "X_train_over, y_train_over = smote.fit_resample(X_train, y_train)   # test는 건들지 말기!"
   ]
  },
  {
   "cell_type": "code",
   "execution_count": 83,
   "id": "8c05e5b4",
   "metadata": {},
   "outputs": [
    {
     "data": {
      "text/plain": [
       "((199362, 29), (199362,))"
      ]
     },
     "execution_count": 83,
     "metadata": {},
     "output_type": "execute_result"
    }
   ],
   "source": [
    "X_train.shape, y_train.shape"
   ]
  },
  {
   "cell_type": "code",
   "execution_count": 84,
   "id": "e94135f1",
   "metadata": {},
   "outputs": [
    {
     "data": {
      "text/plain": [
       "((398040, 29), (398040,))"
      ]
     },
     "execution_count": 84,
     "metadata": {},
     "output_type": "execute_result"
    }
   ],
   "source": [
    "X_train_over.shape, y_train_over.shape"
   ]
  },
  {
   "cell_type": "code",
   "execution_count": 85,
   "id": "7f21f864",
   "metadata": {},
   "outputs": [
    {
     "name": "stdout",
     "output_type": "stream",
     "text": [
      "(array([0, 1], dtype=int64), array([199020,    342], dtype=int64))\n"
     ]
    }
   ],
   "source": [
    "print(np.unique(y_train, return_counts=True))"
   ]
  },
  {
   "cell_type": "code",
   "execution_count": 86,
   "id": "b264ec97",
   "metadata": {},
   "outputs": [
    {
     "name": "stdout",
     "output_type": "stream",
     "text": [
      "(array([0, 1], dtype=int64), array([199020, 199020], dtype=int64))\n"
     ]
    }
   ],
   "source": [
    "print(np.unique(y_train_over, return_counts=True))"
   ]
  },
  {
   "cell_type": "code",
   "execution_count": 88,
   "id": "d88ef84c",
   "metadata": {},
   "outputs": [
    {
     "name": "stdout",
     "output_type": "stream",
     "text": [
      "CPU times: total: 14min 55s\n",
      "Wall time: 4min 18s\n"
     ]
    },
    {
     "data": {
      "text/html": [
       "<div>\n",
       "<style scoped>\n",
       "    .dataframe tbody tr th:only-of-type {\n",
       "        vertical-align: middle;\n",
       "    }\n",
       "\n",
       "    .dataframe tbody tr th {\n",
       "        vertical-align: top;\n",
       "    }\n",
       "\n",
       "    .dataframe thead th {\n",
       "        text-align: right;\n",
       "    }\n",
       "</style>\n",
       "<table border=\"1\" class=\"dataframe\">\n",
       "  <thead>\n",
       "    <tr style=\"text-align: right;\">\n",
       "      <th></th>\n",
       "      <th>accuracy</th>\n",
       "      <th>precision</th>\n",
       "      <th>recall</th>\n",
       "      <th>f1</th>\n",
       "      <th>roc_auc</th>\n",
       "    </tr>\n",
       "  </thead>\n",
       "  <tbody>\n",
       "    <tr>\n",
       "      <th>Rogistic Regression</th>\n",
       "      <td>0.975609</td>\n",
       "      <td>0.059545</td>\n",
       "      <td>0.897260</td>\n",
       "      <td>0.111679</td>\n",
       "      <td>0.936502</td>\n",
       "    </tr>\n",
       "    <tr>\n",
       "      <th>Decision Tree</th>\n",
       "      <td>0.968984</td>\n",
       "      <td>0.046048</td>\n",
       "      <td>0.869863</td>\n",
       "      <td>0.087466</td>\n",
       "      <td>0.919509</td>\n",
       "    </tr>\n",
       "    <tr>\n",
       "      <th>Random Forest</th>\n",
       "      <td>0.999532</td>\n",
       "      <td>0.873239</td>\n",
       "      <td>0.849315</td>\n",
       "      <td>0.861111</td>\n",
       "      <td>0.924552</td>\n",
       "    </tr>\n",
       "    <tr>\n",
       "      <th>LightGBM</th>\n",
       "      <td>0.999532</td>\n",
       "      <td>0.873239</td>\n",
       "      <td>0.849315</td>\n",
       "      <td>0.861111</td>\n",
       "      <td>0.924552</td>\n",
       "    </tr>\n",
       "  </tbody>\n",
       "</table>\n",
       "</div>"
      ],
      "text/plain": [
       "                     accuracy  precision    recall        f1   roc_auc\n",
       "Rogistic Regression  0.975609   0.059545  0.897260  0.111679  0.936502\n",
       "Decision Tree        0.968984   0.046048  0.869863  0.087466  0.919509\n",
       "Random Forest        0.999532   0.873239  0.849315  0.861111  0.924552\n",
       "LightGBM             0.999532   0.873239  0.849315  0.861111  0.924552"
      ]
     },
     "execution_count": 88,
     "metadata": {},
     "output_type": "execute_result"
    }
   ],
   "source": [
    "%%time\n",
    "\n",
    "models = [lr_clf, dt_clf, rf_clf, lgbm_clf]\n",
    "model_names = ['Rogistic Regression', 'Decision Tree', 'Random Forest', 'LightGBM']\n",
    "\n",
    "res = get_res_pd(models, model_names, X_train_over, y_train_over, X_test, y_test)\n",
    "\n",
    "res"
   ]
  },
  {
   "cell_type": "markdown",
   "id": "dddfd2bd",
   "metadata": {},
   "source": [
    "- recall 이 확실히 좋아졌다."
   ]
  },
  {
   "cell_type": "code",
   "execution_count": 89,
   "id": "74bd0bdc",
   "metadata": {},
   "outputs": [
    {
     "data": {
      "image/png": "[encoded data removed]",
      "text/plain": [
       "<Figure size 1000x1000 with 1 Axes>"
      ]
     },
     "metadata": {},
     "output_type": "display_data"
    }
   ],
   "source": [
    "draw_roc_curve(models, model_names, X_test, y_test)"
   ]
  },
  {
   "cell_type": "code",
   "execution_count": null,
   "id": "a6a748c6",
   "metadata": {},
   "outputs": [],
   "source": []
  }
 ],
 "metadata": {
  "kernelspec": {
   "display_name": "Python 3 (ipykernel)",
   "language": "python",
   "name": "python3"
  },
  "language_info": {
   "codemirror_mode": {
    "name": "ipython",
    "version": 3
   },
   "file_extension": ".py",
   "mimetype": "text/x-python",
   "name": "python",
   "nbconvert_exporter": "python",
   "pygments_lexer": "ipython3",
   "version": "3.8.13"
  }
 },
 "nbformat": 4,
 "nbformat_minor": 5
}
