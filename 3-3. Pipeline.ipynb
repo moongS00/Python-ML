{
 "cells": [
  {
   "cell_type": "markdown",
   "id": "7e3ff7c1",
   "metadata": {},
   "source": [
    "# 1. Pipeline"
   ]
  },
  {
   "cell_type": "code",
   "execution_count": 1,
   "id": "fcaa766b",
   "metadata": {},
   "outputs": [],
   "source": [
    "# 와인 데이터 사용\n",
    "import pandas as pd\n",
    "\n",
    "red_url = \"https://raw.githubusercontent.com/PinkWink/ML_tutorial\"+\"/master/dataset/winequality-red.csv\"\n",
    "white_url = \"https://raw.githubusercontent.com/PinkWink/ML_tutorial\"+\"/master/dataset/winequality-white.csv\"\n",
    "\n",
    "\n",
    "red_wine = pd.read_csv(red_url, sep=';')\n",
    "white_wine = pd.read_csv(white_url, sep=';')\n",
    "\n",
    "\n",
    "\n",
    "# 데이터 합치기\n",
    "red_wine['color'] = 1\n",
    "white_wine['color'] = 0\n",
    "\n",
    "wine = pd.concat([red_wine, white_wine])"
   ]
  },
  {
   "cell_type": "code",
   "execution_count": 2,
   "id": "e5486bf2",
   "metadata": {},
   "outputs": [],
   "source": [
    "X = wine.drop(['color'], axis=1)\n",
    "y = wine['color']"
   ]
  },
  {
   "cell_type": "markdown",
   "id": "d281aa7e",
   "metadata": {},
   "source": [
    "### 레드/화이트 와인 분류기 동작 프로세스\n",
    "$$\n",
    "StandardScaler() -> test\\_train\\_split() -> DecisionTreeClassifier()\n",
    "$$\n",
    "\n",
    "- 여기서 test_train)split() 은 Pipeline 내부가 아니다."
   ]
  },
  {
   "cell_type": "markdown",
   "id": "bf0842e3",
   "metadata": {},
   "source": [
    "### 위의 Pipeline을 코드로 구현"
   ]
  },
  {
   "cell_type": "code",
   "execution_count": 3,
   "id": "ac9eafcc",
   "metadata": {},
   "outputs": [],
   "source": [
    "from sklearn.pipeline import Pipeline\n",
    "from sklearn.tree import DecisionTreeClassifier\n",
    "from sklearn.preprocessing import StandardScaler\n",
    "\n",
    "estimators = [('scaler', StandardScaler()),\n",
    "             ('clf', DecisionTreeClassifier())]\n",
    "\n",
    "pipe = Pipeline(estimators)"
   ]
  },
  {
   "cell_type": "code",
   "execution_count": 4,
   "id": "fd3fedfa",
   "metadata": {},
   "outputs": [
    {
     "data": {
      "text/plain": [
       "Pipeline(steps=[('scaler', StandardScaler()),\n",
       "                ('clf', DecisionTreeClassifier())])"
      ]
     },
     "execution_count": 4,
     "metadata": {},
     "output_type": "execute_result"
    }
   ],
   "source": [
    "pipe"
   ]
  },
  {
   "cell_type": "code",
   "execution_count": 5,
   "id": "3b0dc6ad",
   "metadata": {},
   "outputs": [
    {
     "data": {
      "text/plain": [
       "[('scaler', StandardScaler()), ('clf', DecisionTreeClassifier())]"
      ]
     },
     "execution_count": 5,
     "metadata": {},
     "output_type": "execute_result"
    }
   ],
   "source": [
    "pipe.steps"
   ]
  },
  {
   "cell_type": "code",
   "execution_count": 6,
   "id": "9f4bfafa",
   "metadata": {},
   "outputs": [
    {
     "data": {
      "text/plain": [
       "('scaler', StandardScaler())"
      ]
     },
     "execution_count": 6,
     "metadata": {},
     "output_type": "execute_result"
    }
   ],
   "source": [
    "pipe.steps[0]"
   ]
  },
  {
   "cell_type": "code",
   "execution_count": 7,
   "id": "0005e1ad",
   "metadata": {},
   "outputs": [
    {
     "data": {
      "text/plain": [
       "('clf', DecisionTreeClassifier())"
      ]
     },
     "execution_count": 7,
     "metadata": {},
     "output_type": "execute_result"
    }
   ],
   "source": [
    "pipe.steps[1]"
   ]
  },
  {
   "cell_type": "code",
   "execution_count": 8,
   "id": "a1828d2a",
   "metadata": {},
   "outputs": [
    {
     "data": {
      "text/plain": [
       "StandardScaler()"
      ]
     },
     "execution_count": 8,
     "metadata": {},
     "output_type": "execute_result"
    }
   ],
   "source": [
    "pipe[0]"
   ]
  },
  {
   "cell_type": "code",
   "execution_count": 9,
   "id": "465a77af",
   "metadata": {},
   "outputs": [
    {
     "data": {
      "text/plain": [
       "StandardScaler()"
      ]
     },
     "execution_count": 9,
     "metadata": {},
     "output_type": "execute_result"
    }
   ],
   "source": [
    "pipe['scaler']"
   ]
  },
  {
   "cell_type": "markdown",
   "id": "8c6cbd7d",
   "metadata": {},
   "source": [
    "### Pipeline 단계별 파라미터 지정하기\n",
    "- 스탭이름 + **언더바 두개** + 속성이름"
   ]
  },
  {
   "cell_type": "code",
   "execution_count": 10,
   "id": "290df02e",
   "metadata": {},
   "outputs": [
    {
     "data": {
      "text/plain": [
       "Pipeline(steps=[('scaler', StandardScaler()),\n",
       "                ('clf', DecisionTreeClassifier(max_depth=2, random_state=13))])"
      ]
     },
     "execution_count": 10,
     "metadata": {},
     "output_type": "execute_result"
    }
   ],
   "source": [
    "pipe.set_params(clf__max_depth=2)\n",
    "pipe.set_params(clf__random_state=13)"
   ]
  },
  {
   "cell_type": "code",
   "execution_count": 11,
   "id": "432600b5",
   "metadata": {},
   "outputs": [
    {
     "data": {
      "text/plain": [
       "[('scaler', StandardScaler()),\n",
       " ('clf', DecisionTreeClassifier(max_depth=2, random_state=13))]"
      ]
     },
     "execution_count": 11,
     "metadata": {},
     "output_type": "execute_result"
    }
   ],
   "source": [
    "pipe.steps"
   ]
  },
  {
   "cell_type": "markdown",
   "id": "70bd2dfc",
   "metadata": {},
   "source": [
    "### Pipeline을 이용한 분류기 구성"
   ]
  },
  {
   "cell_type": "code",
   "execution_count": 12,
   "id": "0ea589bb",
   "metadata": {},
   "outputs": [
    {
     "data": {
      "text/plain": [
       "Pipeline(steps=[('scaler', StandardScaler()),\n",
       "                ('clf', DecisionTreeClassifier(max_depth=2, random_state=13))])"
      ]
     },
     "execution_count": 12,
     "metadata": {},
     "output_type": "execute_result"
    }
   ],
   "source": [
    "from sklearn.model_selection import train_test_split\n",
    "\n",
    "X_train, X_test, y_train, y_test = train_test_split(X, y, test_size=0.2, random_state=13, stratify=y)\n",
    "\n",
    "pipe.fit(X_train, y_train)"
   ]
  },
  {
   "cell_type": "code",
   "execution_count": 13,
   "id": "be4bee8e",
   "metadata": {},
   "outputs": [
    {
     "name": "stdout",
     "output_type": "stream",
     "text": [
      "Train Acc :  0.9657494708485664\n",
      "Test Acc :  0.9576923076923077\n"
     ]
    }
   ],
   "source": [
    "# 정확성 확인\n",
    "\n",
    "from sklearn.metrics import accuracy_score\n",
    "\n",
    "y_pred_tr = pipe.predict(X_train)\n",
    "y_pred_test = pipe.predict(X_test)\n",
    "\n",
    "print('Train Acc : ', accuracy_score(y_train, y_pred_tr))\n",
    "print('Test Acc : ', accuracy_score(y_test, y_pred_test))"
   ]
  },
  {
   "cell_type": "markdown",
   "id": "e16ea93f",
   "metadata": {},
   "source": [
    "### 모델 구조 확인"
   ]
  },
  {
   "cell_type": "code",
   "execution_count": 23,
   "id": "1c861c2d",
   "metadata": {},
   "outputs": [
    {
     "data": {
      "image/png": "[encoded data removed]",
      "text/plain": [
       "<Figure size 864x576 with 1 Axes>"
      ]
     },
     "metadata": {
      "needs_background": "light"
     },
     "output_type": "display_data"
    }
   ],
   "source": [
    "import matplotlib.pyplot as plt\n",
    "import sklearn.tree as tree\n",
    "\n",
    "plt.figure(figsize=(12, 8))\n",
    "tree.plot_tree(pipe['clf'], feature_names=X.columns, filled=True);"
   ]
  },
  {
   "cell_type": "code",
   "execution_count": null,
   "id": "03094195",
   "metadata": {},
   "outputs": [],
   "source": []
  }
 ],
 "metadata": {
  "kernelspec": {
   "display_name": "Python 3 (ipykernel)",
   "language": "python",
   "name": "python3"
  },
  "language_info": {
   "codemirror_mode": {
    "name": "ipython",
    "version": 3
   },
   "file_extension": ".py",
   "mimetype": "text/x-python",
   "name": "python",
   "nbconvert_exporter": "python",
   "pygments_lexer": "ipython3",
   "version": "3.8.13"
  }
 },
 "nbformat": 4,
 "nbformat_minor": 5
}
