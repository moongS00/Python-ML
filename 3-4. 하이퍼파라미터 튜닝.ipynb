{
 "cells": [
  {
   "cell_type": "markdown",
   "id": "2f97656b",
   "metadata": {},
   "source": [
    "# <1. 교차검증(Cross Validation)>"
   ]
  },
  {
   "cell_type": "markdown",
   "id": "6246edb0",
   "metadata": {},
   "source": [
    "- 과적합 : 모델이 학습 데이터에만 과도하게 최적화되어 일반화된 데이터에서는 예측 성능이 과하게 떨어지는 현상\n",
    "- 나에게 주어진 데이터에 적용한 모델의 성능을 정확하게 표현하는데 유용한 방법"
   ]
  },
  {
   "cell_type": "markdown",
   "id": "369a59ee",
   "metadata": {},
   "source": [
    "### 1. 예시"
   ]
  },
  {
   "cell_type": "code",
   "execution_count": 15,
   "id": "b0544b0f",
   "metadata": {},
   "outputs": [
    {
     "name": "stdout",
     "output_type": "stream",
     "text": [
      "[[1 2]\n",
      " [3 4]\n",
      " [5 6]\n",
      " [7 8]]\n",
      "\n",
      "[1 2 3 4]\n"
     ]
    }
   ],
   "source": [
    "import numpy as np\n",
    "from sklearn.model_selection import KFold\n",
    "\n",
    "X = np.array([[1, 2], [3, 4], [5, 6], [7, 8]])\n",
    "y = np.array([1, 2, 3, 4])\n",
    "\n",
    "print(X)\n",
    "print()\n",
    "print(y)"
   ]
  },
  {
   "cell_type": "code",
   "execution_count": 12,
   "id": "cc113499",
   "metadata": {},
   "outputs": [
    {
     "name": "stdout",
     "output_type": "stream",
     "text": [
      "2\n",
      "KFold(n_splits=2, random_state=None, shuffle=False)\n"
     ]
    }
   ],
   "source": [
    "kf = KFold(n_splits=2)  # 데이터를 2등분\n",
    "\n",
    "print(kf.get_n_splits(X))\n",
    "print(kf)"
   ]
  },
  {
   "cell_type": "code",
   "execution_count": 16,
   "id": "6e307ed7",
   "metadata": {},
   "outputs": [
    {
     "name": "stdout",
     "output_type": "stream",
     "text": [
      "***** idx *****\n",
      "train_idx :  [2 3]\n",
      "test_idx :  [0 1]\n",
      "--- train data\n",
      "[[5 6]\n",
      " [7 8]]\n",
      "--- test data\n",
      "[[1 2]\n",
      " [3 4]]\n",
      "\n",
      "***** idx *****\n",
      "train_idx :  [0 1]\n",
      "test_idx :  [2 3]\n",
      "--- train data\n",
      "[[1 2]\n",
      " [3 4]]\n",
      "--- test data\n",
      "[[5 6]\n",
      " [7 8]]\n",
      "\n"
     ]
    }
   ],
   "source": [
    "# kflod는 인덱스를 반환한다\n",
    "\n",
    "for train_idx, test_idx in kf.split(X):  \n",
    "    print('***** idx *****')\n",
    "    print('train_idx : ', train_idx)\n",
    "    print('test_idx : ', test_idx)\n",
    "    print('--- train data')\n",
    "    print(X[train_idx])\n",
    "    print('--- test data')\n",
    "    print(X[test_idx])\n",
    "    print()"
   ]
  },
  {
   "cell_type": "markdown",
   "id": "5e8b738e",
   "metadata": {},
   "source": [
    "### 2. 와인 데이터에 적용\n",
    "- 와인 맛 분류 "
   ]
  },
  {
   "cell_type": "code",
   "execution_count": 24,
   "id": "fb680ce5",
   "metadata": {},
   "outputs": [],
   "source": [
    "# 와인 데이터 사용\n",
    "import pandas as pd\n",
    "\n",
    "red_url = \"https://raw.githubusercontent.com/PinkWink/ML_tutorial\"+\"/master/dataset/winequality-red.csv\"\n",
    "white_url = \"https://raw.githubusercontent.com/PinkWink/ML_tutorial\"+\"/master/dataset/winequality-white.csv\"\n",
    "\n",
    "\n",
    "red_wine = pd.read_csv(red_url, sep=';')\n",
    "white_wine = pd.read_csv(white_url, sep=';')\n",
    "\n",
    "\n",
    "\n",
    "# 데이터 합치기\n",
    "red_wine['color'] = 1\n",
    "white_wine['color'] = 0\n",
    "\n",
    "wine = pd.concat([red_wine, white_wine])"
   ]
  },
  {
   "cell_type": "code",
   "execution_count": 25,
   "id": "7ab84bc4",
   "metadata": {},
   "outputs": [],
   "source": [
    "wine['taste'] = [1. if grade>5 else 0. for grade in wine['quality']]\n",
    "\n",
    "X = wine.drop(['taste', 'quality'], axis=1)\n",
    "y = wine['taste']"
   ]
  },
  {
   "cell_type": "code",
   "execution_count": 26,
   "id": "74d6e980",
   "metadata": {},
   "outputs": [
    {
     "name": "stdout",
     "output_type": "stream",
     "text": [
      "Train Acc :  0.7294593034442948\n",
      "Test Acc :  0.7161538461538461\n"
     ]
    }
   ],
   "source": [
    "# 일반적인 학슴\n",
    "\n",
    "from sklearn.model_selection import train_test_split\n",
    "from sklearn.tree import DecisionTreeClassifier\n",
    "from sklearn.metrics import accuracy_score\n",
    "\n",
    "X_train, X_test, y_train, y_test = train_test_split(X, y, test_size=0.2, random_state=13)\n",
    "\n",
    "wine_tree = DecisionTreeClassifier(max_depth=2, random_state=13)\n",
    "wine_tree.fit(X_train, y_train)\n",
    "\n",
    "y_pred_tr = wine_tree.predict(X_train)\n",
    "y_pred_test = wine_tree.predict(X_test)\n",
    "\n",
    "print(\"Train Acc : \", accuracy_score(y_train, y_pred_tr))\n",
    "print(\"Test Acc : \", accuracy_score(y_test, y_pred_test))"
   ]
  },
  {
   "cell_type": "markdown",
   "id": "041e1ac4",
   "metadata": {},
   "source": [
    "- 이때, \"데이터를 저렇게 분리하는게 최선인가? 저 acc를 어떻게 신뢰할수 있는가?\" 라고 누가 묻는다면..."
   ]
  },
  {
   "cell_type": "code",
   "execution_count": 27,
   "id": "20000aec",
   "metadata": {},
   "outputs": [],
   "source": [
    "from sklearn.model_selection import KFold\n",
    "\n",
    "kfold = KFold(n_splits=5)\n",
    "wine_tree_cv = DecisionTreeClassifier(max_depth=2, random_state=13)"
   ]
  },
  {
   "cell_type": "code",
   "execution_count": 29,
   "id": "325ad586",
   "metadata": {},
   "outputs": [
    {
     "name": "stdout",
     "output_type": "stream",
     "text": [
      "5197 1300\n",
      "5197 1300\n",
      "5198 1299\n",
      "5198 1299\n",
      "5198 1299\n"
     ]
    }
   ],
   "source": [
    "# kflod는 인덱스를 반환\n",
    "\n",
    "for train_idx, test_idx in kfold.split(X):\n",
    "    print(len(train_idx), len(test_idx))"
   ]
  },
  {
   "cell_type": "code",
   "execution_count": 30,
   "id": "3ed8a2ae",
   "metadata": {},
   "outputs": [
    {
     "data": {
      "text/plain": [
       "[0.6007692307692307,\n",
       " 0.6884615384615385,\n",
       " 0.7090069284064665,\n",
       " 0.7628945342571208,\n",
       " 0.7867590454195535]"
      ]
     },
     "execution_count": 30,
     "metadata": {},
     "output_type": "execute_result"
    }
   ],
   "source": [
    "# kflod 학습\n",
    "# 각각의 fold에 대한 학습 후 acc\n",
    "\n",
    "cv_acc = []\n",
    "\n",
    "for tr_idx, te_idx in kfold.split(X):\n",
    "    X_train, X_test = X.iloc[tr_idx], X.iloc[te_idx]\n",
    "    y_train, y_test = y.iloc[tr_idx], y.iloc[te_idx]\n",
    "    \n",
    "    wine_tree_cv.fit(X_train, y_train)\n",
    "    pred = wine_tree_cv.predict(X_test)\n",
    "    cv_acc.append(accuracy_score(y_test, pred))\n",
    "    \n",
    "cv_acc"
   ]
  },
  {
   "cell_type": "code",
   "execution_count": 31,
   "id": "dc881e30",
   "metadata": {},
   "outputs": [
    {
     "data": {
      "text/plain": [
       "0.709578255462782"
      ]
     },
     "execution_count": 31,
     "metadata": {},
     "output_type": "execute_result"
    }
   ],
   "source": [
    "# 평균값\n",
    "\n",
    "np.mean(cv_acc)"
   ]
  },
  {
   "cell_type": "markdown",
   "id": "a0f81c1c",
   "metadata": {},
   "source": [
    "- 교차검증 결과, 70% acc 가 나왔다."
   ]
  },
  {
   "cell_type": "markdown",
   "id": "686c0261",
   "metadata": {},
   "source": [
    "### 3. Stratified KFold"
   ]
  },
  {
   "cell_type": "code",
   "execution_count": 33,
   "id": "b2c3e870",
   "metadata": {},
   "outputs": [
    {
     "data": {
      "text/plain": [
       "[0.5523076923076923,\n",
       " 0.6884615384615385,\n",
       " 0.7143956889915319,\n",
       " 0.7321016166281755,\n",
       " 0.7567359507313318]"
      ]
     },
     "execution_count": 33,
     "metadata": {},
     "output_type": "execute_result"
    }
   ],
   "source": [
    "from sklearn.model_selection import StratifiedKFold\n",
    "\n",
    "skfold = StratifiedKFold(n_splits=5)\n",
    "wine_tree_cv = DecisionTreeClassifier(max_depth=2, random_state=13)\n",
    "\n",
    "cv_acc_s = []\n",
    "\n",
    "for tr_idx, te_idx in skfold.split(X, y):\n",
    "    X_train, X_test = X.iloc[tr_idx], X.iloc[te_idx]\n",
    "    y_train, y_test = y.iloc[tr_idx], y.iloc[te_idx]\n",
    "    \n",
    "    wine_tree_cv.fit(X_train, y_train)\n",
    "    pred = wine_tree_cv.predict(X_test)\n",
    "    cv_acc_s.append(accuracy_score(y_test, pred))\n",
    "    \n",
    "cv_acc_s"
   ]
  },
  {
   "cell_type": "code",
   "execution_count": 35,
   "id": "3bb357bc",
   "metadata": {},
   "outputs": [
    {
     "data": {
      "text/plain": [
       "0.6888004974240539"
      ]
     },
     "execution_count": 35,
     "metadata": {},
     "output_type": "execute_result"
    }
   ],
   "source": [
    "# 평균값\n",
    "\n",
    "np.mean(cv_acc_s)"
   ]
  },
  {
   "cell_type": "markdown",
   "id": "4da6641b",
   "metadata": {},
   "source": [
    "- 평균값이 더 낮아졌다."
   ]
  },
  {
   "cell_type": "markdown",
   "id": "df2c6c09",
   "metadata": {},
   "source": [
    "### 4. 간단한 방법으로 교차검증 하기"
   ]
  },
  {
   "cell_type": "code",
   "execution_count": 36,
   "id": "ef22436c",
   "metadata": {},
   "outputs": [
    {
     "data": {
      "text/plain": [
       "array([0.55230769, 0.68846154, 0.71439569, 0.73210162, 0.75673595])"
      ]
     },
     "execution_count": 36,
     "metadata": {},
     "output_type": "execute_result"
    }
   ],
   "source": [
    "from sklearn.model_selection import cross_val_score\n",
    "\n",
    "skfold = StratifiedKFold(n_splits=5)\n",
    "wine_tree_cv = DecisionTreeClassifier(max_depth=2, random_state=13)\n",
    "\n",
    "cross_val_score(wine_tree_cv, X, y, scoring=None, cv=skfold)"
   ]
  },
  {
   "cell_type": "code",
   "execution_count": 37,
   "id": "804e6c90",
   "metadata": {},
   "outputs": [
    {
     "data": {
      "text/plain": [
       "array([0.50076923, 0.62615385, 0.69745958, 0.7582756 , 0.74903772])"
      ]
     },
     "execution_count": 37,
     "metadata": {},
     "output_type": "execute_result"
    }
   ],
   "source": [
    "# max_depth를 5로 변경\n",
    "\n",
    "skfold = StratifiedKFold(n_splits=5)\n",
    "wine_tree_cv = DecisionTreeClassifier(max_depth=5, random_state=13)\n",
    "\n",
    "cross_val_score(wine_tree_cv, X, y, scoring=None, cv=skfold)"
   ]
  },
  {
   "cell_type": "markdown",
   "id": "9b29d377",
   "metadata": {},
   "source": [
    "- depth가 높다고 무조건 acc가 좋아지는 것도 아니다!"
   ]
  },
  {
   "cell_type": "markdown",
   "id": "9f29d57f",
   "metadata": {},
   "source": [
    "### 5. train score와 함께 보기"
   ]
  },
  {
   "cell_type": "code",
   "execution_count": 38,
   "id": "472ccfc1",
   "metadata": {},
   "outputs": [
    {
     "data": {
      "text/plain": [
       "{'fit_time': array([0.03091502, 0.04089475, 0.03291178, 0.03390861, 0.03491116]),\n",
       " 'score_time': array([0.00299954, 0.00896478, 0.00399208, 0.00498843, 0.00398445]),\n",
       " 'test_score': array([0.50076923, 0.62615385, 0.69745958, 0.7582756 , 0.74903772]),\n",
       " 'train_score': array([0.78795459, 0.78045026, 0.77568295, 0.76356291, 0.76279338])}"
      ]
     },
     "execution_count": 38,
     "metadata": {},
     "output_type": "execute_result"
    }
   ],
   "source": [
    "from sklearn.model_selection import cross_validate\n",
    "\n",
    "cross_validate(wine_tree_cv, X, y, scoring=None, cv=skfold, return_train_score=True)"
   ]
  },
  {
   "cell_type": "markdown",
   "id": "6f28d7dd",
   "metadata": {},
   "source": [
    "- 과적합 문제도 함께 나타나고 있다.\n",
    "- 이것만 가지고 모델의 좋고나쁨을 판단할수는 없다."
   ]
  },
  {
   "cell_type": "markdown",
   "id": "401c58b0",
   "metadata": {},
   "source": [
    "----\n",
    "# <2. 하이퍼파마리터 튜닝>\n",
    "* 모델의 성능을 확보하기 위해 조절하는 설정 값 (ex. max_depth)"
   ]
  },
  {
   "cell_type": "code",
   "execution_count": 39,
   "id": "d66fe9db",
   "metadata": {},
   "outputs": [],
   "source": [
    "# 와인 데이터 사용\n",
    "import pandas as pd\n",
    "\n",
    "red_url = \"https://raw.githubusercontent.com/PinkWink/ML_tutorial\"+\"/master/dataset/winequality-red.csv\"\n",
    "white_url = \"https://raw.githubusercontent.com/PinkWink/ML_tutorial\"+\"/master/dataset/winequality-white.csv\"\n",
    "\n",
    "\n",
    "red_wine = pd.read_csv(red_url, sep=';')\n",
    "white_wine = pd.read_csv(white_url, sep=';')\n",
    "\n",
    "\n",
    "\n",
    "# 데이터 합치기\n",
    "red_wine['color'] = 1\n",
    "white_wine['color'] = 0\n",
    "\n",
    "wine = pd.concat([red_wine, white_wine])\n",
    "\n",
    "wine['taste'] = [1. if grade>5 else 0. for grade in wine['quality']]\n",
    "\n",
    "X = wine.drop(['taste', 'quality'], axis=1)\n",
    "y = wine['taste']"
   ]
  },
  {
   "cell_type": "markdown",
   "id": "b8fe3f06",
   "metadata": {},
   "source": [
    "### 1. GridSearch CV\n",
    "- cv : cross validation\n",
    "- 수정하고 싶은 파라미터를 dic 으로 정의하면 된다."
   ]
  },
  {
   "cell_type": "code",
   "execution_count": 40,
   "id": "386f0e88",
   "metadata": {},
   "outputs": [
    {
     "data": {
      "text/plain": [
       "GridSearchCV(cv=5,\n",
       "             estimator=DecisionTreeClassifier(max_depth=2, random_state=13),\n",
       "             param_grid={'max_depth': [2, 4, 7, 10]})"
      ]
     },
     "execution_count": 40,
     "metadata": {},
     "output_type": "execute_result"
    }
   ],
   "source": [
    "from sklearn.model_selection import GridSearchCV\n",
    "from sklearn.tree import DecisionTreeClassifier\n",
    "\n",
    "params = {'max_depth' : [2, 4, 7, 10]}\n",
    "wine_tree = DecisionTreeClassifier(max_depth=2, random_state=13)\n",
    "\n",
    "gs = GridSearchCV(estimator=wine_tree, param_grid=params, cv=5)\n",
    "gs.fit(X, y)"
   ]
  },
  {
   "cell_type": "markdown",
   "id": "945130c8",
   "metadata": {},
   "source": [
    "- estimator : 사용하는 모델\n",
    "- param_grid : 수정하는 파라미터\n",
    "- cv : 5겹\n",
    "\n",
    "- fit 시킬 때, tain-test split을 하지 않아도 GridSearchCV가 알아서 해줌. 개꿀"
   ]
  },
  {
   "cell_type": "code",
   "execution_count": 42,
   "id": "35917958",
   "metadata": {},
   "outputs": [
    {
     "name": "stdout",
     "output_type": "stream",
     "text": [
      "{   'mean_fit_time': array([0.01885824, 0.0216455 , 0.03071671, 0.04072104]),\n",
      "    'mean_score_time': array([0.00418229, 0.00399008, 0.00279326, 0.00300007]),\n",
      "    'mean_test_score': array([0.6888005 , 0.66356523, 0.65340854, 0.64401587]),\n",
      "    'param_max_depth': masked_array(data=[2, 4, 7, 10],\n",
      "             mask=[False, False, False, False],\n",
      "       fill_value='?',\n",
      "            dtype=object),\n",
      "    'params': [   {'max_depth': 2},\n",
      "                  {'max_depth': 4},\n",
      "                  {'max_depth': 7},\n",
      "                  {'max_depth': 10}],\n",
      "    'rank_test_score': array([1, 2, 3, 4]),\n",
      "    'split0_test_score': array([0.55230769, 0.51230769, 0.50846154, 0.51615385]),\n",
      "    'split1_test_score': array([0.68846154, 0.63153846, 0.60307692, 0.60076923]),\n",
      "    'split2_test_score': array([0.71439569, 0.72363356, 0.68360277, 0.66743649]),\n",
      "    'split3_test_score': array([0.73210162, 0.73210162, 0.73672055, 0.71054657]),\n",
      "    'split4_test_score': array([0.75673595, 0.7182448 , 0.73518091, 0.72517321]),\n",
      "    'std_fit_time': array([0.0025393 , 0.00298924, 0.00074713, 0.00074472]),\n",
      "    'std_score_time': array([1.16348079e-03, 2.09303331e-03, 3.99208268e-04, 1.35361295e-05]),\n",
      "    'std_test_score': array([0.07179934, 0.08390453, 0.08727223, 0.07717557])}\n"
     ]
    }
   ],
   "source": [
    "# 결과 확인하기\n",
    "import pprint\n",
    "\n",
    "pp = pprint.PrettyPrinter(indent=4)\n",
    "pp.pprint(gs.cv_results_)"
   ]
  },
  {
   "cell_type": "markdown",
   "id": "66c2489d",
   "metadata": {},
   "source": [
    "- 'rank_test_score': array([1, 2, 3, 4]) : 2, 4, 7, 10 순서대로 1, 2, 3, 4 등"
   ]
  },
  {
   "cell_type": "code",
   "execution_count": 49,
   "id": "a28a3fd8",
   "metadata": {},
   "outputs": [
    {
     "name": "stdout",
     "output_type": "stream",
     "text": [
      "gs.best_estimator_ :  DecisionTreeClassifier(max_depth=2, random_state=13)\n",
      "gs.best_score_     :  0.6888004974240539\n",
      "gs.best_params_    :  {'max_depth': 2}\n",
      "gs.best_index_     :  0\n"
     ]
    }
   ],
   "source": [
    "# 최적의 성능을 가진 모델 찾기\n",
    "\n",
    "print(\"gs.best_estimator_ : \", gs.best_estimator_)\n",
    "print(\"gs.best_score_     : \", gs.best_score_)\n",
    "print(\"gs.best_params_    : \", gs.best_params_)\n",
    "print(\"gs.best_index_     : \", gs.best_index_)"
   ]
  },
  {
   "cell_type": "markdown",
   "id": "1d558ccf",
   "metadata": {},
   "source": [
    "### 2. Pipeline에 적용"
   ]
  },
  {
   "cell_type": "code",
   "execution_count": 50,
   "id": "943540b0",
   "metadata": {},
   "outputs": [],
   "source": [
    "from sklearn.pipeline import Pipeline\n",
    "from sklearn.tree import DecisionTreeClassifier\n",
    "from sklearn.preprocessing import StandardScaler\n",
    "\n",
    "estimators = [('scaler', StandardScaler()),\n",
    "             ('clf', DecisionTreeClassifier(random_state=13))]\n",
    "\n",
    "pipe = Pipeline(estimators)"
   ]
  },
  {
   "cell_type": "code",
   "execution_count": 51,
   "id": "019ccc35",
   "metadata": {},
   "outputs": [
    {
     "data": {
      "text/plain": [
       "GridSearchCV(cv=5,\n",
       "             estimator=Pipeline(steps=[('scaler', StandardScaler()),\n",
       "                                       ('clf',\n",
       "                                        DecisionTreeClassifier(random_state=13))]),\n",
       "             param_grid=[{'clf__max_depth': [2, 4, 7, 10]}])"
      ]
     },
     "execution_count": 51,
     "metadata": {},
     "output_type": "execute_result"
    }
   ],
   "source": [
    "param_pipe = [{'clf__max_depth' : [2, 4, 7, 10]}]   # 언더바 2개 잊지말자\n",
    "\n",
    "gs_p = GridSearchCV(estimator=pipe, param_grid=param_pipe, cv=5)\n",
    "gs_p.fit(X,y)"
   ]
  },
  {
   "cell_type": "code",
   "execution_count": 52,
   "id": "ee2e9597",
   "metadata": {},
   "outputs": [
    {
     "name": "stdout",
     "output_type": "stream",
     "text": [
      "{   'mean_fit_time': array([0.03570304, 0.02752566, 0.03311954, 0.04388156]),\n",
      "    'mean_score_time': array([0.00877643, 0.00359135, 0.00298481, 0.00379219]),\n",
      "    'mean_test_score': array([0.6888005 , 0.66356523, 0.6534083 , 0.64401563]),\n",
      "    'param_clf__max_depth': masked_array(data=[2, 4, 7, 10],\n",
      "             mask=[False, False, False, False],\n",
      "       fill_value='?',\n",
      "            dtype=object),\n",
      "    'params': [   {'clf__max_depth': 2},\n",
      "                  {'clf__max_depth': 4},\n",
      "                  {'clf__max_depth': 7},\n",
      "                  {'clf__max_depth': 10}],\n",
      "    'rank_test_score': array([1, 2, 3, 4]),\n",
      "    'split0_test_score': array([0.55230769, 0.51230769, 0.50846154, 0.51615385]),\n",
      "    'split1_test_score': array([0.68846154, 0.63153846, 0.60461538, 0.60230769]),\n",
      "    'split2_test_score': array([0.71439569, 0.72363356, 0.68206313, 0.66589684]),\n",
      "    'split3_test_score': array([0.73210162, 0.73210162, 0.73672055, 0.71054657]),\n",
      "    'split4_test_score': array([0.75673595, 0.7182448 , 0.73518091, 0.72517321]),\n",
      "    'std_fit_time': array([0.01767672, 0.00593756, 0.00073257, 0.00089239]),\n",
      "    'std_score_time': array([0.00543978, 0.00173875, 0.00061734, 0.00074633]),\n",
      "    'std_test_score': array([0.07179934, 0.08390453, 0.08699322, 0.0769154 ])}\n"
     ]
    }
   ],
   "source": [
    "pp = pprint.PrettyPrinter(indent=4)\n",
    "pp.pprint(gs_p.cv_results_)"
   ]
  },
  {
   "cell_type": "code",
   "execution_count": 53,
   "id": "a055509b",
   "metadata": {},
   "outputs": [
    {
     "name": "stdout",
     "output_type": "stream",
     "text": [
      "gs_p.best_estimator_ :  Pipeline(steps=[('scaler', StandardScaler()),\n",
      "                ('clf', DecisionTreeClassifier(max_depth=2, random_state=13))])\n",
      "gs_p.best_score_     :  0.6888004974240539\n",
      "gs_p.best_params_    :  {'clf__max_depth': 2}\n",
      "gs_p.best_index_     :  0\n"
     ]
    }
   ],
   "source": [
    "print(\"gs_p.best_estimator_ : \", gs_p.best_estimator_)\n",
    "print(\"gs_p.best_score_     : \", gs_p.best_score_)\n",
    "print(\"gs_p.best_params_    : \", gs_p.best_params_)\n",
    "print(\"gs_p.best_index_     : \", gs_p.best_index_)"
   ]
  },
  {
   "cell_type": "markdown",
   "id": "f574ee17",
   "metadata": {},
   "source": [
    "### 3. 결과를 표로 정리하기"
   ]
  },
  {
   "cell_type": "code",
   "execution_count": 54,
   "id": "5f910693",
   "metadata": {},
   "outputs": [
    {
     "data": {
      "text/html": [
       "<div>\n",
       "<style scoped>\n",
       "    .dataframe tbody tr th:only-of-type {\n",
       "        vertical-align: middle;\n",
       "    }\n",
       "\n",
       "    .dataframe tbody tr th {\n",
       "        vertical-align: top;\n",
       "    }\n",
       "\n",
       "    .dataframe thead th {\n",
       "        text-align: right;\n",
       "    }\n",
       "</style>\n",
       "<table border=\"1\" class=\"dataframe\">\n",
       "  <thead>\n",
       "    <tr style=\"text-align: right;\">\n",
       "      <th></th>\n",
       "      <th>params</th>\n",
       "      <th>rank_test_score</th>\n",
       "      <th>mean_test_score</th>\n",
       "      <th>std_test_score</th>\n",
       "    </tr>\n",
       "  </thead>\n",
       "  <tbody>\n",
       "    <tr>\n",
       "      <th>0</th>\n",
       "      <td>{'clf__max_depth': 2}</td>\n",
       "      <td>1</td>\n",
       "      <td>0.688800</td>\n",
       "      <td>0.071799</td>\n",
       "    </tr>\n",
       "    <tr>\n",
       "      <th>1</th>\n",
       "      <td>{'clf__max_depth': 4}</td>\n",
       "      <td>2</td>\n",
       "      <td>0.663565</td>\n",
       "      <td>0.083905</td>\n",
       "    </tr>\n",
       "    <tr>\n",
       "      <th>2</th>\n",
       "      <td>{'clf__max_depth': 7}</td>\n",
       "      <td>3</td>\n",
       "      <td>0.653408</td>\n",
       "      <td>0.086993</td>\n",
       "    </tr>\n",
       "    <tr>\n",
       "      <th>3</th>\n",
       "      <td>{'clf__max_depth': 10}</td>\n",
       "      <td>4</td>\n",
       "      <td>0.644016</td>\n",
       "      <td>0.076915</td>\n",
       "    </tr>\n",
       "  </tbody>\n",
       "</table>\n",
       "</div>"
      ],
      "text/plain": [
       "                   params  rank_test_score  mean_test_score  std_test_score\n",
       "0   {'clf__max_depth': 2}                1         0.688800        0.071799\n",
       "1   {'clf__max_depth': 4}                2         0.663565        0.083905\n",
       "2   {'clf__max_depth': 7}                3         0.653408        0.086993\n",
       "3  {'clf__max_depth': 10}                4         0.644016        0.076915"
      ]
     },
     "execution_count": 54,
     "metadata": {},
     "output_type": "execute_result"
    }
   ],
   "source": [
    "import pandas as pd\n",
    "\n",
    "score_df = pd.DataFrame(gs_p.cv_results_)\n",
    "score_df[['params', 'rank_test_score', 'mean_test_score', 'std_test_score']]"
   ]
  },
  {
   "cell_type": "code",
   "execution_count": null,
   "id": "b621984f",
   "metadata": {},
   "outputs": [],
   "source": []
  }
 ],
 "metadata": {
  "kernelspec": {
   "display_name": "Python 3 (ipykernel)",
   "language": "python",
   "name": "python3"
  },
  "language_info": {
   "codemirror_mode": {
    "name": "ipython",
    "version": 3
   },
   "file_extension": ".py",
   "mimetype": "text/x-python",
   "name": "python",
   "nbconvert_exporter": "python",
   "pygments_lexer": "ipython3",
   "version": "3.8.13"
  }
 },
 "nbformat": 4,
 "nbformat_minor": 5
}
